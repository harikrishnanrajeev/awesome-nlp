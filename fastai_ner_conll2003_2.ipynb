{
  "nbformat": 4,
  "nbformat_minor": 0,
  "metadata": {
    "colab": {
      "name": "fastai-ner-conll2003.ipynb",
      "provenance": [],
      "collapsed_sections": [
        "wcH0boFs3E_D",
        "ervox-PKKMuz",
        "UoyGJ13eoWyu",
        "yRkNpqL3C13E",
        "FkikvUNvowTs"
      ],
      "include_colab_link": true
    },
    "kernelspec": {
      "name": "python3",
      "display_name": "Python 3"
    },
    "accelerator": "GPU"
  },
  "cells": [
    {
      "cell_type": "markdown",
      "metadata": {
        "id": "view-in-github",
        "colab_type": "text"
      },
      "source": [
        "<a href=\"https://colab.research.google.com/github/harirajeev/awesome-nlp/blob/master/fastai_ner_conll2003_2.ipynb\" target=\"_parent\"><img src=\"https://colab.research.google.com/assets/colab-badge.svg\" alt=\"Open In Colab\"/></a>"
      ]
    },
    {
      "cell_type": "markdown",
      "metadata": {
        "id": "ZlPrMhKVSzDp",
        "colab_type": "text"
      },
      "source": [
        "Sources:\n",
        "\n",
        "https://github.com/piegu/language-models/blob/master/lm3-portuguese-classifier-TCU-jurisprudencia.ipynb\n",
        "\n",
        "https://colab.research.google.com/gist/davidpfahler/360606c7e6e66d78d82f7cb0e568f426/conll-fastai-v1.ipynb#scrollTo=Esp9SY33wwih\n",
        "\n",
        "https://gist.github.com/mamamot/822944e245622e904e9bccb32633cd97"
      ]
    },
    {
      "cell_type": "code",
      "metadata": {
        "id": "elmZXJ83x_2m",
        "colab_type": "code",
        "outputId": "54efbeb1-2118-4d7f-ff71-c48aaee3cd29",
        "colab": {
          "base_uri": "https://localhost:8080/",
          "height": 34
        }
      },
      "source": [
        "# !pip install fastai -q\n",
        "# !curl -s https://course.fast.ai/setup/colab | bash\n",
        "!pip install -U tqdm -q"
      ],
      "execution_count": 0,
      "outputs": [
        {
          "output_type": "stream",
          "text": [
            "\u001b[?25l\r\u001b[K     |█████▊                          | 10kB 29.2MB/s eta 0:00:01\r\u001b[K     |███████████▌                    | 20kB 3.1MB/s eta 0:00:01\r\u001b[K     |█████████████████▎              | 30kB 3.9MB/s eta 0:00:01\r\u001b[K     |███████████████████████         | 40kB 3.0MB/s eta 0:00:01\r\u001b[K     |████████████████████████████▉   | 51kB 3.7MB/s eta 0:00:01\r\u001b[K     |████████████████████████████████| 61kB 3.1MB/s \n",
            "\u001b[?25h"
          ],
          "name": "stdout"
        }
      ]
    },
    {
      "cell_type": "code",
      "metadata": {
        "id": "6H4OhU3m4aRJ",
        "colab_type": "code",
        "outputId": "cd89dbf2-ef29-4c05-8ae4-43465f25495d",
        "colab": {
          "base_uri": "https://localhost:8080/",
          "height": 124
        }
      },
      "source": [
        "from google.colab import drive\n",
        "drive.mount('/content/gdrive', force_remount=True)\n"
      ],
      "execution_count": 0,
      "outputs": [
        {
          "output_type": "stream",
          "text": [
            "Go to this URL in a browser: https://accounts.google.com/o/oauth2/auth?client_id=947318989803-6bn6qk8qdgf4n4g3pfee6491hc0brc4i.apps.googleusercontent.com&redirect_uri=urn%3aietf%3awg%3aoauth%3a2.0%3aoob&response_type=code&scope=email%20https%3a%2f%2fwww.googleapis.com%2fauth%2fdocs.test%20https%3a%2f%2fwww.googleapis.com%2fauth%2fdrive%20https%3a%2f%2fwww.googleapis.com%2fauth%2fdrive.photos.readonly%20https%3a%2f%2fwww.googleapis.com%2fauth%2fpeopleapi.readonly\n",
            "\n",
            "Enter your authorization code:\n",
            "··········\n",
            "Mounted at /content/gdrive\n"
          ],
          "name": "stdout"
        }
      ]
    },
    {
      "cell_type": "code",
      "metadata": {
        "id": "1NesGI7uywmk",
        "colab_type": "code",
        "colab": {}
      },
      "source": [
        "import gc\n",
        "from functools import partial\n",
        "from pathlib import Path\n",
        "import json\n",
        "from fastai.text import *\n",
        "from fastai.callbacks import *\n",
        "import numpy as np\n",
        "import pandas as pd\n",
        "from tqdm.notebook import tqdm\n",
        "\n",
        "root_dir = Path(\"/content/gdrive/My Drive/\")\n",
        "path = root_dir/\"fastai/NER/\"\n",
        "path.mkdir(parents=True, exist_ok=True)\n",
        "\n",
        "pd.set_option('display.max_colwidth', 200)\n",
        "# pd.set_option('display.max_columns', None)\n",
        "# pd.set_option('display.min_rows', 100)\n",
        "# pd.set_option('display.max_rows', 100)\n",
        "\n",
        "%reload_ext autoreload\n",
        "%autoreload 2\n",
        "%matplotlib inline"
      ],
      "execution_count": 0,
      "outputs": []
    },
    {
      "cell_type": "code",
      "metadata": {
        "id": "EPGq5Sfgdv8k",
        "colab_type": "code",
        "colab": {}
      },
      "source": [
        "BS=128"
      ],
      "execution_count": 0,
      "outputs": []
    },
    {
      "cell_type": "code",
      "metadata": {
        "id": "Rg_BtC-44Ptf",
        "colab_type": "code",
        "colab": {}
      },
      "source": [
        "dataset_path = Path(path/\"conll2003\")\n"
      ],
      "execution_count": 0,
      "outputs": []
    },
    {
      "cell_type": "code",
      "metadata": {
        "id": "fRkhEmIm37g5",
        "colab_type": "code",
        "colab": {}
      },
      "source": [
        "# !git clone https://github.com/patverga/torch-ner-nlp-from-scratch.git\n",
        "# !mv torch-ner-nlp-from-scratch/data/conll2003 \"{dataset_path}\"/"
      ],
      "execution_count": 0,
      "outputs": []
    },
    {
      "cell_type": "code",
      "metadata": {
        "id": "nNLR8w2q37Dh",
        "colab_type": "code",
        "colab": {}
      },
      "source": [
        "# !rm -rf torch-ner-nlp-from-scratch"
      ],
      "execution_count": 0,
      "outputs": []
    },
    {
      "cell_type": "markdown",
      "metadata": {
        "id": "wcH0boFs3E_D",
        "colab_type": "text"
      },
      "source": [
        "# Read data"
      ]
    },
    {
      "cell_type": "code",
      "metadata": {
        "id": "nKUxNWN12vf_",
        "colab_type": "code",
        "outputId": "e2fb806e-e317-4689-a100-6a4462286760",
        "colab": {
          "base_uri": "https://localhost:8080/",
          "height": 206
        }
      },
      "source": [
        "df_train = pd.read_csv(dataset_path/\"eng.train\", sep=' ', header=None, usecols=[0,3], names=[\"Token\", \"Tag\"])\n",
        "df_train['valid'] = False\n",
        "df_train.dropna(subset=[\"Token\", \"Tag\"], inplace = True)\n",
        "df_train.reset_index(drop=True, inplace=True)\n",
        "df_train.head()"
      ],
      "execution_count": 0,
      "outputs": [
        {
          "output_type": "execute_result",
          "data": {
            "text/html": [
              "<div>\n",
              "<style scoped>\n",
              "    .dataframe tbody tr th:only-of-type {\n",
              "        vertical-align: middle;\n",
              "    }\n",
              "\n",
              "    .dataframe tbody tr th {\n",
              "        vertical-align: top;\n",
              "    }\n",
              "\n",
              "    .dataframe thead th {\n",
              "        text-align: right;\n",
              "    }\n",
              "</style>\n",
              "<table border=\"1\" class=\"dataframe\">\n",
              "  <thead>\n",
              "    <tr style=\"text-align: right;\">\n",
              "      <th></th>\n",
              "      <th>Token</th>\n",
              "      <th>Tag</th>\n",
              "      <th>valid</th>\n",
              "    </tr>\n",
              "  </thead>\n",
              "  <tbody>\n",
              "    <tr>\n",
              "      <th>0</th>\n",
              "      <td>-DOCSTART-</td>\n",
              "      <td>O</td>\n",
              "      <td>False</td>\n",
              "    </tr>\n",
              "    <tr>\n",
              "      <th>1</th>\n",
              "      <td>EU</td>\n",
              "      <td>I-ORG</td>\n",
              "      <td>False</td>\n",
              "    </tr>\n",
              "    <tr>\n",
              "      <th>2</th>\n",
              "      <td>rejects</td>\n",
              "      <td>O</td>\n",
              "      <td>False</td>\n",
              "    </tr>\n",
              "    <tr>\n",
              "      <th>3</th>\n",
              "      <td>German</td>\n",
              "      <td>I-MISC</td>\n",
              "      <td>False</td>\n",
              "    </tr>\n",
              "    <tr>\n",
              "      <th>4</th>\n",
              "      <td>call</td>\n",
              "      <td>O</td>\n",
              "      <td>False</td>\n",
              "    </tr>\n",
              "  </tbody>\n",
              "</table>\n",
              "</div>"
            ],
            "text/plain": [
              "        Token     Tag  valid\n",
              "0  -DOCSTART-       O  False\n",
              "1          EU   I-ORG  False\n",
              "2     rejects       O  False\n",
              "3      German  I-MISC  False\n",
              "4        call       O  False"
            ]
          },
          "metadata": {
            "tags": []
          },
          "execution_count": 33
        }
      ]
    },
    {
      "cell_type": "code",
      "metadata": {
        "id": "0p2pGY2T1kPu",
        "colab_type": "code",
        "outputId": "e2ded415-e8ff-4cff-c21c-513d68943798",
        "colab": {
          "base_uri": "https://localhost:8080/",
          "height": 206
        }
      },
      "source": [
        "df_valid = pd.read_csv(dataset_path/\"eng.testa\", sep=' ', header=None, usecols=[0,3], names=[\"Token\", \"Tag\"])\n",
        "df_valid['valid'] = True\n",
        "df_valid.dropna(subset=[\"Token\", \"Tag\"], inplace = True)\n",
        "df_valid.reset_index(drop=True, inplace=True)\n",
        "df_test = pd.read_csv(dataset_path/\"eng.testb\", sep=' ', header=None, usecols=[0,3], names=[\"Token\", \"Tag\"])\n",
        "df_test.dropna(subset=[\"Token\", \"Tag\"], inplace = True)\n",
        "df_test.reset_index(drop=True, inplace=True)\n",
        "df_valid.head()"
      ],
      "execution_count": 0,
      "outputs": [
        {
          "output_type": "execute_result",
          "data": {
            "text/html": [
              "<div>\n",
              "<style scoped>\n",
              "    .dataframe tbody tr th:only-of-type {\n",
              "        vertical-align: middle;\n",
              "    }\n",
              "\n",
              "    .dataframe tbody tr th {\n",
              "        vertical-align: top;\n",
              "    }\n",
              "\n",
              "    .dataframe thead th {\n",
              "        text-align: right;\n",
              "    }\n",
              "</style>\n",
              "<table border=\"1\" class=\"dataframe\">\n",
              "  <thead>\n",
              "    <tr style=\"text-align: right;\">\n",
              "      <th></th>\n",
              "      <th>Token</th>\n",
              "      <th>Tag</th>\n",
              "      <th>valid</th>\n",
              "    </tr>\n",
              "  </thead>\n",
              "  <tbody>\n",
              "    <tr>\n",
              "      <th>0</th>\n",
              "      <td>-DOCSTART-</td>\n",
              "      <td>O</td>\n",
              "      <td>True</td>\n",
              "    </tr>\n",
              "    <tr>\n",
              "      <th>1</th>\n",
              "      <td>CRICKET</td>\n",
              "      <td>O</td>\n",
              "      <td>True</td>\n",
              "    </tr>\n",
              "    <tr>\n",
              "      <th>2</th>\n",
              "      <td>-</td>\n",
              "      <td>O</td>\n",
              "      <td>True</td>\n",
              "    </tr>\n",
              "    <tr>\n",
              "      <th>3</th>\n",
              "      <td>LEICESTERSHIRE</td>\n",
              "      <td>I-ORG</td>\n",
              "      <td>True</td>\n",
              "    </tr>\n",
              "    <tr>\n",
              "      <th>4</th>\n",
              "      <td>TAKE</td>\n",
              "      <td>O</td>\n",
              "      <td>True</td>\n",
              "    </tr>\n",
              "  </tbody>\n",
              "</table>\n",
              "</div>"
            ],
            "text/plain": [
              "            Token    Tag  valid\n",
              "0      -DOCSTART-      O   True\n",
              "1         CRICKET      O   True\n",
              "2               -      O   True\n",
              "3  LEICESTERSHIRE  I-ORG   True\n",
              "4            TAKE      O   True"
            ]
          },
          "metadata": {
            "tags": []
          },
          "execution_count": 34
        }
      ]
    },
    {
      "cell_type": "code",
      "metadata": {
        "id": "jMvUOoN97mDe",
        "colab_type": "code",
        "outputId": "416e646e-40a0-417c-ec79-97792c754942",
        "colab": {
          "base_uri": "https://localhost:8080/",
          "height": 206
        }
      },
      "source": [
        "df_test.head()"
      ],
      "execution_count": 0,
      "outputs": [
        {
          "output_type": "execute_result",
          "data": {
            "text/html": [
              "<div>\n",
              "<style scoped>\n",
              "    .dataframe tbody tr th:only-of-type {\n",
              "        vertical-align: middle;\n",
              "    }\n",
              "\n",
              "    .dataframe tbody tr th {\n",
              "        vertical-align: top;\n",
              "    }\n",
              "\n",
              "    .dataframe thead th {\n",
              "        text-align: right;\n",
              "    }\n",
              "</style>\n",
              "<table border=\"1\" class=\"dataframe\">\n",
              "  <thead>\n",
              "    <tr style=\"text-align: right;\">\n",
              "      <th></th>\n",
              "      <th>Token</th>\n",
              "      <th>Tag</th>\n",
              "    </tr>\n",
              "  </thead>\n",
              "  <tbody>\n",
              "    <tr>\n",
              "      <th>0</th>\n",
              "      <td>-DOCSTART-</td>\n",
              "      <td>O</td>\n",
              "    </tr>\n",
              "    <tr>\n",
              "      <th>1</th>\n",
              "      <td>SOCCER</td>\n",
              "      <td>O</td>\n",
              "    </tr>\n",
              "    <tr>\n",
              "      <th>2</th>\n",
              "      <td>-</td>\n",
              "      <td>O</td>\n",
              "    </tr>\n",
              "    <tr>\n",
              "      <th>3</th>\n",
              "      <td>JAPAN</td>\n",
              "      <td>I-LOC</td>\n",
              "    </tr>\n",
              "    <tr>\n",
              "      <th>4</th>\n",
              "      <td>GET</td>\n",
              "      <td>O</td>\n",
              "    </tr>\n",
              "  </tbody>\n",
              "</table>\n",
              "</div>"
            ],
            "text/plain": [
              "        Token    Tag\n",
              "0  -DOCSTART-      O\n",
              "1      SOCCER      O\n",
              "2           -      O\n",
              "3       JAPAN  I-LOC\n",
              "4         GET      O"
            ]
          },
          "metadata": {
            "tags": []
          },
          "execution_count": 35
        }
      ]
    },
    {
      "cell_type": "code",
      "metadata": {
        "id": "EOmcYSS-VqyQ",
        "colab_type": "code",
        "colab": {}
      },
      "source": [
        "# df_train.drop(df_train[df_train.Tag.isin([\"B-LOC\", \"B-ORG\", \"B-MISC\"])].index, inplace=True)\n",
        "# df_valid.drop(df_valid[df_valid.Tag.isin([\"B-LOC\", \"B-ORG\", \"B-MISC\"])].index, inplace=True)\n",
        "# df_test.drop(df_test[df_test.Tag.isin([\"B-LOC\", \"B-ORG\", \"B-MISC\"])].index, inplace=True)"
      ],
      "execution_count": 0,
      "outputs": []
    },
    {
      "cell_type": "code",
      "metadata": {
        "id": "Ev9diL046nKr",
        "colab_type": "code",
        "colab": {}
      },
      "source": [
        "df_train[\"Token\"] = df_train[\"Token\"].str.replace(\"-DOCSTART-\", \"xxbos\")\n",
        "df_valid[\"Token\"] = df_valid[\"Token\"].str.replace(\"-DOCSTART-\", \"xxbos\")\n",
        "df_test[\"Token\"] = df_test[\"Token\"].str.replace(\"-DOCSTART-\", \"xxbos\")"
      ],
      "execution_count": 0,
      "outputs": []
    },
    {
      "cell_type": "markdown",
      "metadata": {
        "id": "ervox-PKKMuz",
        "colab_type": "text"
      },
      "source": [
        "# Preprocess "
      ]
    },
    {
      "cell_type": "code",
      "metadata": {
        "id": "-Y1gi5py7ufO",
        "colab_type": "code",
        "colab": {}
      },
      "source": [
        "def split_to_docs(tokens, labels):\n",
        "  x, y, doc, lbs = [], [], [], []\n",
        "  for i, token in enumerate(tokens):\n",
        "    if token == 'xxbos' and len(doc) > 0:\n",
        "      x.append(doc)\n",
        "      y.append(lbs)\n",
        "      doc, lbs = [], []\n",
        "    doc.append(token)\n",
        "    lbs.append(labels[i])\n",
        "  x.append(doc)\n",
        "  y.append(lbs)\n",
        "  return x, y"
      ],
      "execution_count": 0,
      "outputs": []
    },
    {
      "cell_type": "code",
      "metadata": {
        "id": "Y46qsPZH75m5",
        "colab_type": "code",
        "colab": {}
      },
      "source": [
        "train_x, train_y = split_to_docs(df_train['Token'], df_train['Tag'])\n",
        "valid_x, valid_y = split_to_docs(df_valid['Token'], df_valid['Tag'])\n",
        "test_x, test_y = split_to_docs(df_test['Token'], df_test['Tag'])"
      ],
      "execution_count": 0,
      "outputs": []
    },
    {
      "cell_type": "code",
      "metadata": {
        "id": "Iff_Qqoo79_2",
        "colab_type": "code",
        "outputId": "1a242e98-2a0e-4f78-dfa6-3c336dc4ef62",
        "colab": {
          "base_uri": "https://localhost:8080/",
          "height": 380
        }
      },
      "source": [
        "train_df = pd.DataFrame({'tokens': train_x, 'labels': train_y})\n",
        "train_df['set'] = 'train'\n",
        "valid_df = pd.DataFrame(data = {'tokens': valid_x, 'labels': valid_y})\n",
        "valid_df['set'] = 'valid'\n",
        "test_df = pd.DataFrame(data = {'tokens': test_x, 'labels': test_y})\n",
        "test_df['set'] = 'test'\n",
        "df = pd.concat([train_df, valid_df], ignore_index=True)\n",
        "df.head()"
      ],
      "execution_count": 0,
      "outputs": [
        {
          "output_type": "execute_result",
          "data": {
            "text/html": [
              "<div>\n",
              "<style scoped>\n",
              "    .dataframe tbody tr th:only-of-type {\n",
              "        vertical-align: middle;\n",
              "    }\n",
              "\n",
              "    .dataframe tbody tr th {\n",
              "        vertical-align: top;\n",
              "    }\n",
              "\n",
              "    .dataframe thead th {\n",
              "        text-align: right;\n",
              "    }\n",
              "</style>\n",
              "<table border=\"1\" class=\"dataframe\">\n",
              "  <thead>\n",
              "    <tr style=\"text-align: right;\">\n",
              "      <th></th>\n",
              "      <th>tokens</th>\n",
              "      <th>labels</th>\n",
              "      <th>set</th>\n",
              "    </tr>\n",
              "  </thead>\n",
              "  <tbody>\n",
              "    <tr>\n",
              "      <th>0</th>\n",
              "      <td>[xxbos, EU, rejects, German, call, to, boycott, British, lamb, ., Peter, Blackburn, BRUSSELS, 1996-08-22, The, European, Commission, said, on, Thursday, it, disagreed, with, German, advice, to, co...</td>\n",
              "      <td>[O, I-ORG, O, I-MISC, O, O, O, I-MISC, O, O, I-PER, I-PER, I-LOC, O, O, I-ORG, I-ORG, O, O, O, O, O, O, I-MISC, O, O, O, O, O, I-MISC, O, O, O, O, O, O, O, O, O, O, O, O, O, O, I-LOC, O, O, O, O, ...</td>\n",
              "      <td>train</td>\n",
              "    </tr>\n",
              "    <tr>\n",
              "      <th>1</th>\n",
              "      <td>[xxbos, Rare, Hendrix, song, draft, sells, for, almost, $, 17,000, ., LONDON, 1996-08-22, A, rare, early, handwritten, draft, of, a, song, by, U.S., guitar, legend, Jimi, Hendrix, was, sold, for, ...</td>\n",
              "      <td>[O, O, I-PER, O, O, O, O, O, O, O, O, I-LOC, O, O, O, O, O, O, O, O, O, O, I-LOC, O, O, I-PER, I-PER, O, O, O, O, O, O, O, O, O, O, O, O, O, O, O, O, O, O, O, O, O, O, I-LOC, O, O, O, O, O, O, O, ...</td>\n",
              "      <td>train</td>\n",
              "    </tr>\n",
              "    <tr>\n",
              "      <th>2</th>\n",
              "      <td>[xxbos, China, says, Taiwan, spoils, atmosphere, for, talks, ., BEIJING, 1996-08-22, China, on, Thursday, accused, Taipei, of, spoiling, the, atmosphere, for, a, resumption, of, talks, across, the...</td>\n",
              "      <td>[O, I-LOC, O, I-LOC, O, O, O, O, O, I-LOC, O, I-LOC, O, O, O, I-LOC, O, O, O, O, O, O, O, O, O, O, O, I-LOC, I-LOC, O, O, O, O, I-LOC, O, I-MISC, O, O, I-PER, I-PER, O, O, O, O, I-LOC, O, O, O, O,...</td>\n",
              "      <td>train</td>\n",
              "    </tr>\n",
              "    <tr>\n",
              "      <th>3</th>\n",
              "      <td>[xxbos, China, says, time, right, for, Taiwan, talks, ., BEIJING, 1996-08-22, China, has, said, it, was, time, for, political, talks, with, Taiwan, and, that, the, rival, island, should, take, pra...</td>\n",
              "      <td>[O, I-LOC, O, O, O, O, I-LOC, O, O, I-LOC, O, I-LOC, O, O, O, O, O, O, O, O, O, I-LOC, O, O, O, O, O, O, O, O, O, O, O, O, O, O, O, O, O, O, O, O, O, O, O, O, O, O, O, O, O, I-ORG, O, O, O, I-PER,...</td>\n",
              "      <td>train</td>\n",
              "    </tr>\n",
              "    <tr>\n",
              "      <th>4</th>\n",
              "      <td>[xxbos, German, July, car, registrations, up, 14.2, pct, yr, /, yr, ., FRANKFURT, 1996-08-22, German, first-time, registrations, of, motor, vehicles, jumped, 14.2, percent, in, July, this, year, f...</td>\n",
              "      <td>[O, I-MISC, O, O, O, O, O, O, O, O, O, O, I-LOC, O, I-MISC, O, O, O, O, O, O, O, O, O, O, O, O, O, O, O, O, O, O, I-ORG, I-ORG, I-ORG, I-ORG, I-ORG, O, O, O, O, O, O, O, O, O, O, O, O, O, O, O, O,...</td>\n",
              "      <td>train</td>\n",
              "    </tr>\n",
              "  </tbody>\n",
              "</table>\n",
              "</div>"
            ],
            "text/plain": [
              "                                                                                                                                                                                                    tokens  ...    set\n",
              "0  [xxbos, EU, rejects, German, call, to, boycott, British, lamb, ., Peter, Blackburn, BRUSSELS, 1996-08-22, The, European, Commission, said, on, Thursday, it, disagreed, with, German, advice, to, co...  ...  train\n",
              "1  [xxbos, Rare, Hendrix, song, draft, sells, for, almost, $, 17,000, ., LONDON, 1996-08-22, A, rare, early, handwritten, draft, of, a, song, by, U.S., guitar, legend, Jimi, Hendrix, was, sold, for, ...  ...  train\n",
              "2  [xxbos, China, says, Taiwan, spoils, atmosphere, for, talks, ., BEIJING, 1996-08-22, China, on, Thursday, accused, Taipei, of, spoiling, the, atmosphere, for, a, resumption, of, talks, across, the...  ...  train\n",
              "3  [xxbos, China, says, time, right, for, Taiwan, talks, ., BEIJING, 1996-08-22, China, has, said, it, was, time, for, political, talks, with, Taiwan, and, that, the, rival, island, should, take, pra...  ...  train\n",
              "4  [xxbos, German, July, car, registrations, up, 14.2, pct, yr, /, yr, ., FRANKFURT, 1996-08-22, German, first-time, registrations, of, motor, vehicles, jumped, 14.2, percent, in, July, this, year, f...  ...  train\n",
              "\n",
              "[5 rows x 3 columns]"
            ]
          },
          "metadata": {
            "tags": []
          },
          "execution_count": 40
        }
      ]
    },
    {
      "cell_type": "markdown",
      "metadata": {
        "id": "UoyGJ13eoWyu",
        "colab_type": "text"
      },
      "source": [
        "# Train LM"
      ]
    },
    {
      "cell_type": "code",
      "metadata": {
        "id": "pvO3gtN0XvLE",
        "colab_type": "code",
        "colab": {}
      },
      "source": [
        "data_lm = (TextList.from_df(pd.concat([df, test_df], ignore_index=True), path=path, cols='tokens', processor=[num_tokens])\n",
        "           .split_by_rand_pct(0.1)\n",
        "           .label_for_lm()\n",
        "           .databunch())"
      ],
      "execution_count": 0,
      "outputs": []
    },
    {
      "cell_type": "code",
      "metadata": {
        "id": "oKIlsjLlaWPh",
        "colab_type": "code",
        "colab": {}
      },
      "source": [
        "data_lm.save('data_lm')"
      ],
      "execution_count": 0,
      "outputs": []
    },
    {
      "cell_type": "code",
      "metadata": {
        "id": "R8EDTXz5ac5L",
        "colab_type": "code",
        "colab": {}
      },
      "source": [
        "data_lm = load_data(path, 'data_lm', bs=BS)"
      ],
      "execution_count": 0,
      "outputs": []
    },
    {
      "cell_type": "code",
      "metadata": {
        "id": "XcMijcTSdyJW",
        "colab_type": "code",
        "outputId": "42b7cd1f-4117-4f06-96d6-38a619c8133d",
        "colab": {
          "base_uri": "https://localhost:8080/",
          "height": 363
        }
      },
      "source": [
        "data_lm.show_batch()"
      ],
      "execution_count": 0,
      "outputs": [
        {
          "output_type": "display_data",
          "data": {
            "text/html": [
              "<table border=\"1\" class=\"dataframe\">\n",
              "  <thead>\n",
              "    <tr style=\"text-align: right;\">\n",
              "      <th>idx</th>\n",
              "      <th>text</th>\n",
              "    </tr>\n",
              "  </thead>\n",
              "  <tbody>\n",
              "    <tr>\n",
              "      <td>0</td>\n",
              "      <td>scientific advice was xxunk . We do n't support any such recommendation because we do n't see any grounds for it , the Commission 's chief spokesman xxunk van der xxunk told a news briefing . He said further scientific study was required and if it was found that action was needed it should be taken by the European Union . He said a proposal last month by EU Farm</td>\n",
              "    </tr>\n",
              "    <tr>\n",
              "      <td>1</td>\n",
              "      <td>by Iranian troops xxunk inside Iraq last month . A Mujahideen Khalq statement said its leader Massoud xxunk met in Baghdad the Secretary-General of the Kurdistan Democratic Party of Iran ( xxunk ) Hassan xxunk on Wednesday and voiced his support to Iran 's rebel Kurds . xxunk xxunk that the Iranian xxunk would continue to stand side by side with their Kurdish xxunk and the resistance movement in Iranian</td>\n",
              "    </tr>\n",
              "    <tr>\n",
              "      <td>2</td>\n",
              "      <td>work and residence rights say Prime Minister Alain Juppe 's proposals are xxunk as xxunk strike enters xxunk day in Paris church and Wednesday rally xxunk 8,000 xxunk . -- xxunk xxunk nationalist movement announces end of truce after last night 's attacks . BUSINESS xxunk -- xxunk of xxunk 's French xxunk points up xxunk industry crisis , with French manufacturers xxunk by xxunk country competition and failure to</td>\n",
              "    </tr>\n",
              "    <tr>\n",
              "      <td>3</td>\n",
              "      <td>Younis xxunk , Mohammad Akram xxunk , Mushtaq Ahmed xxunk , Aamir Sohail xxunk Pakistan : Aamir Sohail , Saeed Anwar , Ijaz Ahmed , Inzamam-ul-Haq , Salim Malik , Asif Mujtaba , Wasim Akram , Moin Khan , Mushtaq Ahmed , Waqar Younis , Mohammad Akam -DOCSTART- SOCCER - xxunk xxunk IN SCOTTISH SQUAD AFTER 20 xxunk . GLASGOW 1996-08-22 Everton 's Duncan Ferguson , who scored twice against</td>\n",
              "    </tr>\n",
              "    <tr>\n",
              "      <td>4</td>\n",
              "      <td>( Spain ) vs. Jordi xxunk ( Spain ) Francisco Clavet ( Spain ) vs. 16 - Cedric Pioline ( France ) ------------------------ 9 - Wayne Ferreira ( South Africa ) vs. qualifier Karol Kucera ( Slovakia ) vs. Jonas xxunk ( Sweden ) Qualifier vs. Christian xxunk ( Norway ) Alex Corretja ( Spain ) vs. Byron Black ( Zimbabwe ) David Rikl ( Czech Republic ) vs. Hicham</td>\n",
              "    </tr>\n",
              "  </tbody>\n",
              "</table>"
            ],
            "text/plain": [
              "<IPython.core.display.HTML object>"
            ]
          },
          "metadata": {
            "tags": []
          }
        }
      ]
    },
    {
      "cell_type": "code",
      "metadata": {
        "id": "4KG5ZDVod7WR",
        "colab_type": "code",
        "outputId": "c40392a3-d645-439b-8b0a-3b96458380f8",
        "colab": {
          "base_uri": "https://localhost:8080/",
          "height": 34
        }
      },
      "source": [
        "learn = language_model_learner(data_lm, AWD_LSTM, drop_mult=0.5,\n",
        "                               metrics=[accuracy, Perplexity()],).to_fp16(clip=0.1)"
      ],
      "execution_count": 0,
      "outputs": [
        {
          "output_type": "stream",
          "text": [
            "Downloading https://s3.amazonaws.com/fast-ai-modelzoo/wt103-fwd\n"
          ],
          "name": "stdout"
        },
        {
          "output_type": "display_data",
          "data": {
            "text/html": [
              ""
            ],
            "text/plain": [
              "<IPython.core.display.HTML object>"
            ]
          },
          "metadata": {
            "tags": []
          }
        }
      ]
    },
    {
      "cell_type": "code",
      "metadata": {
        "id": "FBpCoOmzfmun",
        "colab_type": "code",
        "outputId": "6aa1a477-23c3-4c35-faa6-9ed5c1a8a503",
        "colab": {
          "base_uri": "https://localhost:8080/",
          "height": 469
        }
      },
      "source": [
        "learn.lr_find()\n",
        "learn.recorder.plot(skip_end=15)"
      ],
      "execution_count": 0,
      "outputs": [
        {
          "output_type": "display_data",
          "data": {
            "text/html": [
              "\n",
              "    <div>\n",
              "        <style>\n",
              "            /* Turns off some styling */\n",
              "            progress {\n",
              "                /* gets rid of default border in Firefox and Opera. */\n",
              "                border: none;\n",
              "                /* Needs to be in here for Safari polyfill so background images work as expected. */\n",
              "                background-size: auto;\n",
              "            }\n",
              "            .progress-bar-interrupted, .progress-bar-interrupted::-webkit-progress-bar {\n",
              "                background: #F44336;\n",
              "            }\n",
              "        </style>\n",
              "      <progress value='3' class='' max='4', style='width:300px; height:20px; vertical-align: middle;'></progress>\n",
              "      75.00% [3/4 00:14<00:04]\n",
              "    </div>\n",
              "    \n",
              "<table border=\"1\" class=\"dataframe\">\n",
              "  <thead>\n",
              "    <tr style=\"text-align: left;\">\n",
              "      <th>epoch</th>\n",
              "      <th>train_loss</th>\n",
              "      <th>valid_loss</th>\n",
              "      <th>accuracy</th>\n",
              "      <th>perplexity</th>\n",
              "      <th>time</th>\n",
              "    </tr>\n",
              "  </thead>\n",
              "  <tbody>\n",
              "    <tr>\n",
              "      <td>0</td>\n",
              "      <td>6.119419</td>\n",
              "      <td>#na#</td>\n",
              "      <td>00:04</td>\n",
              "    </tr>\n",
              "    <tr>\n",
              "      <td>1</td>\n",
              "      <td>6.025314</td>\n",
              "      <td>#na#</td>\n",
              "      <td>00:04</td>\n",
              "    </tr>\n",
              "    <tr>\n",
              "      <td>2</td>\n",
              "      <td>6.353843</td>\n",
              "      <td>#na#</td>\n",
              "      <td>00:04</td>\n",
              "    </tr>\n",
              "  </tbody>\n",
              "</table><p>\n",
              "\n",
              "    <div>\n",
              "        <style>\n",
              "            /* Turns off some styling */\n",
              "            progress {\n",
              "                /* gets rid of default border in Firefox and Opera. */\n",
              "                border: none;\n",
              "                /* Needs to be in here for Safari polyfill so background images work as expected. */\n",
              "                background-size: auto;\n",
              "            }\n",
              "            .progress-bar-interrupted, .progress-bar-interrupted::-webkit-progress-bar {\n",
              "                background: #F44336;\n",
              "            }\n",
              "        </style>\n",
              "      <progress value='6' class='' max='31', style='width:300px; height:20px; vertical-align: middle;'></progress>\n",
              "      19.35% [6/31 00:00<00:03 8.6232]\n",
              "    </div>\n",
              "    "
            ],
            "text/plain": [
              "<IPython.core.display.HTML object>"
            ]
          },
          "metadata": {
            "tags": []
          }
        },
        {
          "output_type": "stream",
          "text": [
            "LR Finder is complete, type {learner_name}.recorder.plot() to see the graph.\n"
          ],
          "name": "stdout"
        },
        {
          "output_type": "display_data",
          "data": {
            "image/png": "[encoded data removed]",
            "text/plain": [
              "<Figure size 432x288 with 1 Axes>"
            ]
          },
          "metadata": {
            "tags": []
          }
        }
      ]
    },
    {
      "cell_type": "code",
      "metadata": {
        "id": "zIBXozjYhAgX",
        "colab_type": "code",
        "colab": {}
      },
      "source": [
        "# learn.callback_fns = [partial(EarlyStoppingCallback, monitor=\"perplexity\", mode=\"min\", patience=3),\n",
        "#                       partial(SaveModelCallback, monitor=\"perplexity\", mode=\"min\", name=\"best_model\")]\n",
        "lr = 5e-02\n",
        "moms = (0.8,0.7)\n",
        "wd = 0.1"
      ],
      "execution_count": 0,
      "outputs": []
    },
    {
      "cell_type": "code",
      "metadata": {
        "id": "tglyhu3dfRbA",
        "colab_type": "code",
        "outputId": "9a28f51f-604c-44b4-e80f-e63bedbe8d3c",
        "colab": {
          "base_uri": "https://localhost:8080/",
          "height": 81
        }
      },
      "source": [
        "learn.fit_one_cycle(1, slice(lr), moms=moms, wd=wd)"
      ],
      "execution_count": 0,
      "outputs": [
        {
          "output_type": "display_data",
          "data": {
            "text/html": [
              "<table border=\"1\" class=\"dataframe\">\n",
              "  <thead>\n",
              "    <tr style=\"text-align: left;\">\n",
              "      <th>epoch</th>\n",
              "      <th>train_loss</th>\n",
              "      <th>valid_loss</th>\n",
              "      <th>accuracy</th>\n",
              "      <th>perplexity</th>\n",
              "      <th>time</th>\n",
              "    </tr>\n",
              "  </thead>\n",
              "  <tbody>\n",
              "    <tr>\n",
              "      <td>0</td>\n",
              "      <td>4.930320</td>\n",
              "      <td>4.539720</td>\n",
              "      <td>0.251507</td>\n",
              "      <td>93.664528</td>\n",
              "      <td>00:05</td>\n",
              "    </tr>\n",
              "  </tbody>\n",
              "</table>"
            ],
            "text/plain": [
              "<IPython.core.display.HTML object>"
            ]
          },
          "metadata": {
            "tags": []
          }
        }
      ]
    },
    {
      "cell_type": "code",
      "metadata": {
        "id": "TrDk7gAwhkd-",
        "colab_type": "code",
        "outputId": "447adee1-0169-42c2-ff44-7d89636b2c67",
        "colab": {
          "base_uri": "https://localhost:8080/",
          "height": 206
        }
      },
      "source": [
        "learn.unfreeze()\n",
        "learn.fit_one_cycle(5, slice(lr/5), moms=moms, wd=wd)"
      ],
      "execution_count": 0,
      "outputs": [
        {
          "output_type": "display_data",
          "data": {
            "text/html": [
              "<table border=\"1\" class=\"dataframe\">\n",
              "  <thead>\n",
              "    <tr style=\"text-align: left;\">\n",
              "      <th>epoch</th>\n",
              "      <th>train_loss</th>\n",
              "      <th>valid_loss</th>\n",
              "      <th>accuracy</th>\n",
              "      <th>perplexity</th>\n",
              "      <th>time</th>\n",
              "    </tr>\n",
              "  </thead>\n",
              "  <tbody>\n",
              "    <tr>\n",
              "      <td>0</td>\n",
              "      <td>3.820800</td>\n",
              "      <td>4.207790</td>\n",
              "      <td>0.278516</td>\n",
              "      <td>67.207840</td>\n",
              "      <td>00:06</td>\n",
              "    </tr>\n",
              "    <tr>\n",
              "      <td>1</td>\n",
              "      <td>3.566947</td>\n",
              "      <td>3.969212</td>\n",
              "      <td>0.298856</td>\n",
              "      <td>52.942799</td>\n",
              "      <td>00:06</td>\n",
              "    </tr>\n",
              "    <tr>\n",
              "      <td>2</td>\n",
              "      <td>3.222346</td>\n",
              "      <td>3.905181</td>\n",
              "      <td>0.309347</td>\n",
              "      <td>49.659054</td>\n",
              "      <td>00:06</td>\n",
              "    </tr>\n",
              "    <tr>\n",
              "      <td>3</td>\n",
              "      <td>2.875800</td>\n",
              "      <td>3.911048</td>\n",
              "      <td>0.314621</td>\n",
              "      <td>49.951279</td>\n",
              "      <td>00:06</td>\n",
              "    </tr>\n",
              "    <tr>\n",
              "      <td>4</td>\n",
              "      <td>2.614475</td>\n",
              "      <td>3.929655</td>\n",
              "      <td>0.314258</td>\n",
              "      <td>50.889385</td>\n",
              "      <td>00:06</td>\n",
              "    </tr>\n",
              "  </tbody>\n",
              "</table>"
            ],
            "text/plain": [
              "<IPython.core.display.HTML object>"
            ]
          },
          "metadata": {
            "tags": []
          }
        }
      ]
    },
    {
      "cell_type": "code",
      "metadata": {
        "id": "kDBtUa3wh8D6",
        "colab_type": "code",
        "colab": {}
      },
      "source": [
        "learn.save_encoder('ft_enc')"
      ],
      "execution_count": 0,
      "outputs": []
    },
    {
      "cell_type": "code",
      "metadata": {
        "id": "fGI0lR5rsyIC",
        "colab_type": "code",
        "colab": {}
      },
      "source": [
        "torch.save(learn.model[0].encoder.state_dict(), path/'conll_lm-20_epochs_enc.pth')"
      ],
      "execution_count": 0,
      "outputs": []
    },
    {
      "cell_type": "code",
      "metadata": {
        "id": "hH0zlq4yix2C",
        "colab_type": "code",
        "outputId": "f76d4b3a-2689-4453-da04-112d5e32e3a4",
        "colab": {
          "base_uri": "https://localhost:8080/",
          "height": 34
        }
      },
      "source": [
        "learn.predict(\"A Mujahideen Khalq statement\", n_words=10)"
      ],
      "execution_count": 0,
      "outputs": [
        {
          "output_type": "execute_result",
          "data": {
            "text/plain": [
              "\"A Mujahideen Khalq statement surgery to help reduce Albion in Europe 's foreign minister\""
            ]
          },
          "metadata": {
            "tags": []
          },
          "execution_count": 82
        }
      ]
    },
    {
      "cell_type": "markdown",
      "metadata": {
        "id": "yRkNpqL3C13E",
        "colab_type": "text"
      },
      "source": [
        "# NER DataBunch"
      ]
    },
    {
      "cell_type": "code",
      "metadata": {
        "id": "FkmcLoBs8JCf",
        "colab_type": "code",
        "colab": {}
      },
      "source": [
        "def seq2seq_collate(samples:BatchSamples, pad_idx:int=1, pad_first:bool=True, backwards:bool=False) -> Tuple[LongTensor, LongTensor]:\n",
        "    \"Function that collect samples and adds padding. Flips token order if needed\"\n",
        "    samples = to_data(samples)\n",
        "    max_len_x,max_len_y = max([len(s[0]) for s in samples]),max([len(s[1]) for s in samples])\n",
        "    res_x = torch.zeros(len(samples), max_len_x).long() + pad_idx\n",
        "    res_y = torch.zeros(len(samples), max_len_y).long() + pad_idx\n",
        "    if backwards: pad_first = not pad_first\n",
        "    for i,s in enumerate(samples):\n",
        "        if pad_first: \n",
        "            res_x[i,-len(s[0]):],res_y[i,-len(s[1]):] = LongTensor(s[0]),LongTensor(s[1])\n",
        "        else:         \n",
        "            res_x[i,:len(s[0]):],res_y[i,:len(s[1]):] = LongTensor(s[0]),LongTensor(s[1])\n",
        "    if backwards: res_x,res_y = res_x.flip(1),res_y.flip(1)\n",
        "    return res_x,res_y"
      ],
      "execution_count": 0,
      "outputs": []
    },
    {
      "cell_type": "code",
      "metadata": {
        "id": "6PK1uyTmVIzq",
        "colab_type": "code",
        "colab": {}
      },
      "source": [
        "class Seq2SeqDataBunch(TextDataBunch):\n",
        "    \"Create a `TextDataBunch` suitable for training an RNN classifier.\"\n",
        "    @classmethod\n",
        "    def create(cls, train_ds, valid_ds, test_ds=None, path:PathOrStr='.', bs:int=32, val_bs:int=None, pad_idx=1,\n",
        "               dl_tfms=None, pad_first=False, device:torch.device=None, no_check:bool=False, backwards:bool=False, **dl_kwargs) -> DataBunch:\n",
        "        \"Function that transform the `datasets` in a `DataBunch` for classification. Passes `**dl_kwargs` on to `DataLoader()`\"\n",
        "        datasets = cls._init_ds(train_ds, valid_ds, test_ds)\n",
        "        val_bs = ifnone(val_bs, bs)\n",
        "        collate_fn = partial(seq2seq_collate, pad_idx=pad_idx, pad_first=pad_first, backwards=backwards)\n",
        "        train_sampler = SortishSampler(datasets[0].x, key=lambda t: len(datasets[0][t][0].data), bs=bs//2)\n",
        "        train_dl = DataLoader(datasets[0], batch_size=bs, sampler=train_sampler, drop_last=True, **dl_kwargs)\n",
        "        dataloaders = [train_dl]\n",
        "        for ds in datasets[1:]:\n",
        "            lengths = [len(t) for t in ds.x.items]\n",
        "            sampler = SortSampler(ds.x, key=lengths.__getitem__)\n",
        "            dataloaders.append(DataLoader(ds, batch_size=val_bs, sampler=sampler, **dl_kwargs))\n",
        "        return cls(*dataloaders, path=path, device=device, collate_fn=collate_fn, no_check=no_check)\n",
        "\n",
        "\n",
        "class Seq2SeqTextList(TextList):\n",
        "    _bunch = Seq2SeqDataBunch\n",
        "    _label_cls = TextList\n",
        "\n",
        "\n",
        "class NERLabelList(TextList):\n",
        "    _processor = [NumericalizeProcessor]"
      ],
      "execution_count": 0,
      "outputs": []
    },
    {
      "cell_type": "code",
      "metadata": {
        "id": "C8dvi3m8WMBs",
        "colab_type": "code",
        "colab": {}
      },
      "source": [
        "num_tokens = NumericalizeProcessor()\n",
        "num_labels = NumericalizeProcessor()\n",
        "src = (Seq2SeqTextList.from_df(df, path=path, cols='tokens', processor=[num_tokens])\n",
        "       .split_by_idx(range(len(train_df), len(train_df) + len(valid_df)))\n",
        "       .label_from_df(cols='labels', label_cls=NERLabelList, processor=num_labels))"
      ],
      "execution_count": 0,
      "outputs": []
    },
    {
      "cell_type": "code",
      "metadata": {
        "id": "ZM8hu8TsWXw6",
        "colab_type": "code",
        "colab": {}
      },
      "source": [
        "data = src.databunch()"
      ],
      "execution_count": 0,
      "outputs": []
    },
    {
      "cell_type": "code",
      "metadata": {
        "id": "b3SaxCYQWfUG",
        "colab_type": "code",
        "colab": {}
      },
      "source": [
        "data.save('data')"
      ],
      "execution_count": 0,
      "outputs": []
    },
    {
      "cell_type": "code",
      "metadata": {
        "id": "xohweYXsdXJA",
        "colab_type": "code",
        "colab": {}
      },
      "source": [
        "data = load_data(path, 'data', bs=BS)"
      ],
      "execution_count": 0,
      "outputs": []
    },
    {
      "cell_type": "code",
      "metadata": {
        "id": "jJKAvlIDXrn0",
        "colab_type": "code",
        "outputId": "80508fdb-61c2-4920-ef26-325b33152299",
        "colab": {
          "base_uri": "https://localhost:8080/",
          "height": 671
        }
      },
      "source": [
        "data.show_batch(1)"
      ],
      "execution_count": 0,
      "outputs": [
        {
          "output_type": "display_data",
          "data": {
            "text/html": [
              "<table border=\"1\" class=\"dataframe\">\n",
              "  <thead>\n",
              "    <tr style=\"text-align: right;\">\n",
              "      <th>text</th>\n",
              "      <th>target</th>\n",
              "    </tr>\n",
              "  </thead>\n",
              "  <tbody>\n",
              "    <tr>\n",
              "      <td>xxbos ATHLETICS - BRUSSELS GRAND PRIX RESULTS . BRUSSELS 1996-08-23 Leading results in the Brussels Grand Prix athletics meeting on Friday : Women 's xxunk 1. xxunk xxunk ( Germany ) xxunk metres 2. xxunk Zvereva ( Belarus ) xxunk 3. xxunk xxunk ( Germany ) xxunk 4. Natalya xxunk ( Russia ) xxunk 5. xxunk xxunk ( Norway ) xxunk 6. xxunk xxunk ( Romania ) xxunk 7. xxunk</td>\n",
              "      <td>O O O I-MISC I-MISC I-MISC O O I-LOC O O O O O I-MISC I-MISC I-MISC O O O O O O O O O I-PER I-PER O I-LOC O O O O I-PER I-PER O I-LOC O O O I-PER I-PER O I-LOC O O O I-PER I-PER O I-LOC O O O I-PER I-PER O I-LOC O O O I-PER I-PER O I-LOC O O O I-PER I-PER O I-LOC O O O I-PER I-PER O I-LOC O O O O O O O O I-PER I-PER O I-LOC O O O O I-PER I-PER O I-LOC O O O I-PER I-PER O I-LOC O O O I-PER I-PER O I-LOC O O O I-PER I-PER O I-LOC O O O I-PER I-PER O I-LOC O O O I-PER I-PER O I-LOC O O O I-PER I-PER O I-LOC O O O I-PER I-PER O I-LOC O O O O O O O O I-PER I-PER O I-LOC O O O O I-PER I-PER O I-LOC O O O I-PER I-PER O I-LOC O O O I-PER I-PER O I-LOC O O O I-PER I-PER O I-LOC O O O I-PER I-PER O I-LOC O O O I-PER I-PER O I-LOC O O O I-PER I-PER O I-LOC O O O I-PER I-PER O I-LOC O O O O O O O I-PER I-PER O I-LOC O O O O O O I-PER I-PER O I-LOC O O O I-PER I-PER O I-LOC O O O I-PER I-PER O I-LOC O O O I-PER I-PER O I-LOC O O O I-PER I-PER O I-LOC O O O I-PER I-PER O I-LOC O O O I-PER I-PER O I-LOC O O O O O O O I-PER I-PER O I-LOC O O O O I-PER I-PER O I-LOC O O O I-PER I-PER O I-LOC O O O I-PER I-PER O I-LOC O O O I-PER I-PER O I-LOC O O O I-PER I-PER O I-LOC O O O I-PER I-PER O I-LOC O O O I-PER I-PER O I-LOC O O O O O O O O I-PER I-PER O I-LOC O O O O I-PER I-PER O I-LOC O O O I-PER I-PER O I-LOC O O O I-PER I-PER O I-LOC O O O I-PER I-PER O I-LOC O O O I-PER I-PER O I-LOC O O O I-PER I-PER O I-LOC O O O I-PER I-PER O I-LOC O O O I-PER I-PER O I-LOC O O O O O O O I-PER I-PER O I-LOC O O O O I-PER I-PER O I-LOC O O O I-PER I-PER O I-LOC O O O I-PER I-PER O I-LOC O O O I-PER I-PER O I-LOC O O O I-PER I-PER O I-LOC O O O I-PER I-PER O I-LOC O O O I-PER I-PER O I-LOC O O O I-PER I-PER O I-LOC O O O O O O O I-PER I-PER O I-LOC O O O O O O I-PER I-PER O I-LOC O O O I-PER I-PER O I-LOC O O O I-PER I-PER O I-LOC O O O I-PER I-PER O I-LOC O O O I-PER I-PER O I-LOC O O O I-PER I-PER O I-LOC O O O I-PER I-PER O I-LOC O O O O O O I-PER I-PER O I-LOC O O O O O O I-PER I-PER O I-LOC O O O I-PER I-PER O I-LOC O O O I-PER I-PER O I-LOC O O O I-PER I-PER O I-LOC O O O I-PER I-PER I-PER O I-LOC O O O I-PER I-PER O I-LOC O O O I-PER I-PER O I-LOC O O O O O O O I-PER I-PER O I-LOC O O O O I-PER I-PER O I-LOC O O O I-PER I-PER O I-LOC O O O I-PER I-PER O I-LOC O O O I-PER I-PER O I-LOC O O O I-PER I-PER O I-LOC O O O I-PER I-PER O I-LOC O O O I-PER I-PER O I-LOC O O O I-PER I-PER O I-LOC O O O O O O O I-PER I-PER O I-LOC O O O O I-PER I-PER O I-LOC O O O I-PER I-PER O I-LOC O O O I-PER I-PER O I-LOC O O O I-PER I-PER O I-LOC O O O I-PER I-PER O I-LOC O O O I-PER I-PER O I-LOC O O O I-PER I-PER O I-LOC O O O I-PER I-PER O I-LOC O O O O O O O I-PER I-PER O I-LOC O O O O O O O O O O I-PER I-PER O I-LOC O O O I-PER I-PER O I-LOC O O O I-PER I-PER O I-LOC O O O I-PER I-PER I-PER O I-LOC O O O I-PER I-PER O I-LOC O O O I-PER I-PER O I-LOC O O O I-PER I-PER O I-LOC O O O O O O O I-PER I-PER O I-LOC O O O O I-PER I-PER O I-LOC O O O I-PER I-PER O I-LOC O O O I-PER I-PER O I-LOC O O O I-PER I-PER O I-LOC O O O I-PER I-PER O I-LOC O O O I-PER I-PER O I-LOC O O O I-PER I-PER O I-LOC O O O O O O O I-PER I-PER O I-LOC O O O O I-PER I-PER O I-LOC O O O I-PER I-PER O I-LOC O O O I-PER I-PER O I-LOC O O O I-PER I-PER O I-LOC O O O I-PER I-PER O I-LOC O O O I-PER I-PER O I-LOC I-LOC O O O I-PER I-PER O I-LOC O O O O O O O I-PER I-PER O I-LOC O O O O O O I-PER I-PER O I-LOC O O O I-PER I-PER O I-LOC O O O I-PER I-PER I-PER O I-LOC O O O I-PER I-PER O I-LOC O O O I-PER I-PER O I-LOC O O O I-PER I-PER O I-LOC O O O I-PER I-PER O I-LOC O O O O O O I-PER I-PER O I-LOC O O O O I-PER I-PER O I-LOC O O O I-PER I-PER O I-LOC O O O I-PER I-PER O I-LOC O O O I-PER I-PER O I-LOC O O O I-PER I-PER O I-LOC O O O I-PER I-PER O I-LOC O O O I-PER I-PER O I-LOC O O O O O O O I-PER I-PER O I-LOC O O O O I-PER I-PER O I-LOC O O O I-PER I-PER O I-LOC O O O I-PER I-PER O I-LOC O O O I-PER I-PER O I-LOC O O O I-PER I-PER O I-LOC O O O I-PER I-PER O I-LOC O O O I-PER I-PER O I-LOC O O O O O O O I-PER I-PER I-PER O I-LOC O O O O O O I-PER I-PER O I-LOC O O O I-PER I-PER O I-LOC O O O I-PER I-PER O I-LOC O O O I-PER I-PER O I-LOC O O O I-PER I-PER O I-LOC O O O I-PER I-PER O I-LOC O O O I-PER I-PER O I-LOC O O O O O O O I-PER I-PER O I-LOC O O O O I-PER I-PER O I-LOC O O O I-PER I-PER O I-LOC O O O I-PER I-PER O I-LOC O O O I-PER I-PER O I-LOC O O O I-PER I-PER O I-LOC O O O I-PER I-PER O I-LOC O O O O O I-PER I-PER O I-LOC O O O O O I-PER I-PER O I-LOC O O O O O O O I-PER I-PER O I-LOC O O O O O O O O O O I-PER I-PER O I-LOC O O O I-PER I-PER O I-LOC O O O I-PER I-PER O I-LOC O O O I-PER I-PER O I-LOC O O O I-PER I-PER O I-LOC O O O I-PER I-PER O I-LOC O O O I-PER I-PER O I-LOC O O O I-PER I-PER O I-LOC O O O I-PER I-PER O I-LOC O O</td>\n",
              "    </tr>\n",
              "  </tbody>\n",
              "</table>"
            ],
            "text/plain": [
              "<IPython.core.display.HTML object>"
            ]
          },
          "metadata": {
            "tags": []
          }
        }
      ]
    },
    {
      "cell_type": "markdown",
      "metadata": {
        "id": "FkikvUNvowTs",
        "colab_type": "text"
      },
      "source": [
        "# NER Model"
      ]
    },
    {
      "cell_type": "code",
      "metadata": {
        "id": "DBZQge7D5DD3",
        "colab_type": "code",
        "colab": {}
      },
      "source": [
        "data = load_data(path, 'data', bs=BS)"
      ],
      "execution_count": 0,
      "outputs": []
    },
    {
      "cell_type": "markdown",
      "metadata": {
        "id": "1wDxtoNTsUJg",
        "colab_type": "text"
      },
      "source": [
        "## NER LM"
      ]
    },
    {
      "cell_type": "code",
      "metadata": {
        "id": "tc8HaexPsYfq",
        "colab_type": "code",
        "colab": {}
      },
      "source": [
        "learn = language_model_learner(data_lm, AWD_LSTM, drop_mult=0.5, pretrained=False)"
      ],
      "execution_count": 0,
      "outputs": []
    },
    {
      "cell_type": "code",
      "metadata": {
        "id": "YJfHydLVsYnB",
        "colab_type": "code",
        "colab": {}
      },
      "source": [
        ""
      ],
      "execution_count": 0,
      "outputs": []
    },
    {
      "cell_type": "code",
      "metadata": {
        "id": "o_rE7LKLsYi_",
        "colab_type": "code",
        "colab": {}
      },
      "source": [
        ""
      ],
      "execution_count": 0,
      "outputs": []
    },
    {
      "cell_type": "code",
      "metadata": {
        "id": "Vn06NwCvovSx",
        "colab_type": "code",
        "outputId": "720da74d-a7a6-401f-c3bb-80c5fc6f0742",
        "colab": {
          "base_uri": "https://localhost:8080/",
          "height": 191
        }
      },
      "source": [
        "data.vocab.itos[:10]"
      ],
      "execution_count": 0,
      "outputs": [
        {
          "output_type": "execute_result",
          "data": {
            "text/plain": [
              "['xxunk',\n",
              " 'xxpad',\n",
              " 'xxbos',\n",
              " 'xxeos',\n",
              " 'xxfld',\n",
              " 'xxmaj',\n",
              " 'xxup',\n",
              " 'xxrep',\n",
              " 'xxwrep',\n",
              " '.']"
            ]
          },
          "metadata": {
            "tags": []
          },
          "execution_count": 49
        }
      ]
    },
    {
      "cell_type": "code",
      "metadata": {
        "id": "mIem8XaNqklw",
        "colab_type": "code",
        "colab": {}
      },
      "source": [
        "pad_idx, bos_idx = 1, 2"
      ],
      "execution_count": 0,
      "outputs": []
    },
    {
      "cell_type": "code",
      "metadata": {
        "id": "CA60weVmo6_f",
        "colab_type": "code",
        "colab": {}
      },
      "source": [
        "class NERRNN(nn.Module):\n",
        "    def __init__(self, emb_enc, emb_dec, nh, nout, nl=2, bos_idx=0, pad_idx=1):\n",
        "        super().__init__()\n",
        "        self.nl,self.nh, = nl,nh\n",
        "        self.bos_idx,self.pad_idx = bos_idx,pad_idx\n",
        "        self.em_sz_enc = emb_enc.embedding_dim\n",
        "        self.em_sz_dec = emb_dec.embedding_dim\n",
        "        self.nout = nout\n",
        "                 \n",
        "        self.emb_enc = emb_enc\n",
        "        self.emb_enc_drop = nn.Dropout(0.15)\n",
        "        self.gru_enc = nn.GRU(self.em_sz_enc, nh, num_layers=nl,\n",
        "                              dropout=0.25, batch_first=True)\n",
        "        self.out_enc = nn.Linear(nh, self.em_sz_dec, bias=False)\n",
        "        \n",
        "        self.emb_dec = emb_dec\n",
        "        self.gru_dec = nn.GRU(self.em_sz_dec, self.em_sz_dec, num_layers=nl,\n",
        "                              dropout=0.1, batch_first=True)\n",
        "        self.out_drop = nn.Dropout(0.35)\n",
        "        self.out = nn.Linear(self.em_sz_dec, self.nout)\n",
        "        \n",
        "    def encoder(self, bs, inp):\n",
        "        h = self.initHidden(bs)\n",
        "        emb = self.emb_enc_drop(self.emb_enc(inp))\n",
        "        _, h = self.gru_enc(emb, h)\n",
        "        h = self.out_enc(h)\n",
        "        return h\n",
        "    \n",
        "    def decoder(self, dec_inp, h):\n",
        "        emb = self.emb_dec(dec_inp).unsqueeze(1)\n",
        "        outp, h = self.gru_dec(emb, h)\n",
        "        outp = self.out(self.out_drop(outp[:,0]))\n",
        "        return h, outp\n",
        "        \n",
        "    def forward(self, inp):\n",
        "        bs, sl = inp.size()\n",
        "        h = self.encoder(bs, inp)\n",
        "        dec_inp = inp.new_zeros(bs).long() + self.bos_idx\n",
        "        \n",
        "        res = []\n",
        "        for i in range(self.nout):\n",
        "            h, outp = self.decoder(dec_inp, h)\n",
        "            dec_inp = outp.max(1)[1]\n",
        "            res.append(outp)\n",
        "            if (dec_inp==self.pad_idx).all(): break\n",
        "        return torch.stack(res, dim=1)\n",
        "    \n",
        "    def initHidden(self, bs): return one_param(self).new_zeros(self.nl, bs, self.nh)   "
      ],
      "execution_count": 0,
      "outputs": []
    },
    {
      "cell_type": "code",
      "metadata": {
        "id": "x-LZK1JJqyjj",
        "colab_type": "code",
        "colab": {}
      },
      "source": [
        "xb,yb = next(iter(data.valid_dl))"
      ],
      "execution_count": 0,
      "outputs": []
    },
    {
      "cell_type": "code",
      "metadata": {
        "id": "qRXtb7_RqzWN",
        "colab_type": "code",
        "outputId": "867176ab-4858-4e94-ec94-5119945783ed",
        "colab": {
          "base_uri": "https://localhost:8080/",
          "height": 34
        }
      },
      "source": [
        "xb.shape"
      ],
      "execution_count": 0,
      "outputs": [
        {
          "output_type": "execute_result",
          "data": {
            "text/plain": [
              "torch.Size([128, 1175])"
            ]
          },
          "metadata": {
            "tags": []
          },
          "execution_count": 61
        }
      ]
    },
    {
      "cell_type": "code",
      "metadata": {
        "id": "NRx524cf8Uaa",
        "colab_type": "code",
        "colab": {}
      },
      "source": [
        "emb_enc = nn.Embedding(9472, 400, padding_idx=pad_idx)"
      ],
      "execution_count": 0,
      "outputs": []
    },
    {
      "cell_type": "code",
      "metadata": {
        "id": "SdJDqKHat1mn",
        "colab_type": "code",
        "colab": {}
      },
      "source": [
        ""
      ],
      "execution_count": 0,
      "outputs": []
    },
    {
      "cell_type": "code",
      "metadata": {
        "id": "1iHEt7cG8XFO",
        "colab_type": "code",
        "outputId": "f5374ab5-3d4f-46eb-8261-6df72d910940",
        "colab": {
          "base_uri": "https://localhost:8080/",
          "height": 341
        }
      },
      "source": [
        "emb_enc.load_state_dict(torch.load(path/'conll_lm-20_epochs_enc.pth'))\n",
        "# emb_enc.load_state_dict(torch.load(path/'models/ft_enc.pth'));"
      ],
      "execution_count": 0,
      "outputs": [
        {
          "output_type": "error",
          "ename": "RuntimeError",
          "evalue": "ignored",
          "traceback": [
            "\u001b[0;31m---------------------------------------------------------------------------\u001b[0m",
            "\u001b[0;31mRuntimeError\u001b[0m                              Traceback (most recent call last)",
            "\u001b[0;32m<ipython-input-83-068465d7ff7b>\u001b[0m in \u001b[0;36m<module>\u001b[0;34m()\u001b[0m\n\u001b[0;32m----> 1\u001b[0;31m \u001b[0memb_enc\u001b[0m\u001b[0;34m.\u001b[0m\u001b[0mload_state_dict\u001b[0m\u001b[0;34m(\u001b[0m\u001b[0mtorch\u001b[0m\u001b[0;34m.\u001b[0m\u001b[0mload\u001b[0m\u001b[0;34m(\u001b[0m\u001b[0mpath\u001b[0m\u001b[0;34m/\u001b[0m\u001b[0;34m'conll_lm-20_epochs_enc.pth'\u001b[0m\u001b[0;34m)\u001b[0m\u001b[0;34m)\u001b[0m\u001b[0;34m\u001b[0m\u001b[0;34m\u001b[0m\u001b[0m\n\u001b[0m\u001b[1;32m      2\u001b[0m \u001b[0;31m# emb_enc.load_state_dict(torch.load(path/'models/ft_enc.pth'));\u001b[0m\u001b[0;34m\u001b[0m\u001b[0;34m\u001b[0m\u001b[0;34m\u001b[0m\u001b[0m\n",
            "\u001b[0;32m/usr/local/lib/python3.6/dist-packages/torch/nn/modules/module.py\u001b[0m in \u001b[0;36mload_state_dict\u001b[0;34m(self, state_dict, strict)\u001b[0m\n\u001b[1;32m    837\u001b[0m         \u001b[0;32mif\u001b[0m \u001b[0mlen\u001b[0m\u001b[0;34m(\u001b[0m\u001b[0merror_msgs\u001b[0m\u001b[0;34m)\u001b[0m \u001b[0;34m>\u001b[0m \u001b[0;36m0\u001b[0m\u001b[0;34m:\u001b[0m\u001b[0;34m\u001b[0m\u001b[0;34m\u001b[0m\u001b[0m\n\u001b[1;32m    838\u001b[0m             raise RuntimeError('Error(s) in loading state_dict for {}:\\n\\t{}'.format(\n\u001b[0;32m--> 839\u001b[0;31m                                self.__class__.__name__, \"\\n\\t\".join(error_msgs)))\n\u001b[0m\u001b[1;32m    840\u001b[0m         \u001b[0;32mreturn\u001b[0m \u001b[0m_IncompatibleKeys\u001b[0m\u001b[0;34m(\u001b[0m\u001b[0mmissing_keys\u001b[0m\u001b[0;34m,\u001b[0m \u001b[0munexpected_keys\u001b[0m\u001b[0;34m)\u001b[0m\u001b[0;34m\u001b[0m\u001b[0;34m\u001b[0m\u001b[0m\n\u001b[1;32m    841\u001b[0m \u001b[0;34m\u001b[0m\u001b[0m\n",
            "\u001b[0;31mRuntimeError\u001b[0m: Error(s) in loading state_dict for Embedding:\n\tsize mismatch for weight: copying a param with shape torch.Size([8136, 400]) from checkpoint, the shape in current model is torch.Size([9472, 400])."
          ]
        }
      ]
    },
    {
      "cell_type": "code",
      "metadata": {
        "id": "AKRR1kZfrhzi",
        "colab_type": "code",
        "colab": {}
      },
      "source": [
        "emb_dec = nn.Embedding(len(data.y.vocab.itos), 400, padding_idx=pad_idx)"
      ],
      "execution_count": 0,
      "outputs": []
    },
    {
      "cell_type": "code",
      "metadata": {
        "id": "Mr9yj4GFqep-",
        "colab_type": "code",
        "colab": {}
      },
      "source": [
        "rnn = NERRNN(emb_enc, emb_dec, 128, len(data.y.vocab.itos), bos_idx, pad_idx)"
      ],
      "execution_count": 0,
      "outputs": []
    },
    {
      "cell_type": "code",
      "metadata": {
        "id": "-0JVz2gwvqCS",
        "colab_type": "code",
        "outputId": "95c1a047-75c2-48f6-d980-b2dc9bed528a",
        "colab": {
          "base_uri": "https://localhost:8080/",
          "height": 191
        }
      },
      "source": [
        "rnn"
      ],
      "execution_count": 0,
      "outputs": [
        {
          "output_type": "execute_result",
          "data": {
            "text/plain": [
              "NERRNN(\n",
              "  (emb_enc): Embedding(9472, 400, padding_idx=1)\n",
              "  (emb_enc_drop): Dropout(p=0.15, inplace=False)\n",
              "  (gru_enc): GRU(400, 128, num_layers=2, batch_first=True, dropout=0.25)\n",
              "  (out_enc): Linear(in_features=128, out_features=400, bias=False)\n",
              "  (emb_dec): Embedding(24, 400, padding_idx=1)\n",
              "  (gru_dec): GRU(400, 400, num_layers=2, batch_first=True, dropout=0.1)\n",
              "  (out_drop): Dropout(p=0.35, inplace=False)\n",
              "  (out): Linear(in_features=400, out_features=24, bias=True)\n",
              ")"
            ]
          },
          "metadata": {
            "tags": []
          },
          "execution_count": 67
        }
      ]
    },
    {
      "cell_type": "code",
      "metadata": {
        "id": "CdNp3qQevqQM",
        "colab_type": "code",
        "colab": {}
      },
      "source": [
        "def seq2seq_loss(out, targ, pad_idx=1):\n",
        "    bs,targ_len = targ.size()\n",
        "    _,out_len,vs = out.size()\n",
        "    if targ_len>out_len: out  = F.pad(out,  (0,0,0,targ_len-out_len,0,0), value=pad_idx)\n",
        "    if out_len>targ_len: targ = F.pad(targ, (0,out_len-targ_len,0,0), value=pad_idx)\n",
        "    return CrossEntropyFlat()(out, targ)"
      ],
      "execution_count": 0,
      "outputs": []
    },
    {
      "cell_type": "code",
      "metadata": {
        "id": "sEIMZUoZ2T1k",
        "colab_type": "code",
        "colab": {}
      },
      "source": [
        "learn = Learner(data, rnn, loss_func=seq2seq_loss)"
      ],
      "execution_count": 0,
      "outputs": []
    },
    {
      "cell_type": "code",
      "metadata": {
        "id": "FwsnZoUCr7c5",
        "colab_type": "code",
        "outputId": "075a5fcf-1ff7-4a2c-c8b3-6dfea6d783be",
        "colab": {
          "base_uri": "https://localhost:8080/",
          "height": 165
        }
      },
      "source": [
        "learn.load_encoder(path/\"models/ft_enc.pth\")"
      ],
      "execution_count": 0,
      "outputs": [
        {
          "output_type": "error",
          "ename": "AttributeError",
          "evalue": "ignored",
          "traceback": [
            "\u001b[0;31m---------------------------------------------------------------------------\u001b[0m",
            "\u001b[0;31mAttributeError\u001b[0m                            Traceback (most recent call last)",
            "\u001b[0;32m<ipython-input-70-ac874a4c3a17>\u001b[0m in \u001b[0;36m<module>\u001b[0;34m()\u001b[0m\n\u001b[0;32m----> 1\u001b[0;31m \u001b[0mlearn\u001b[0m\u001b[0;34m.\u001b[0m\u001b[0mload_encoder\u001b[0m\u001b[0;34m(\u001b[0m\u001b[0mpath\u001b[0m\u001b[0;34m/\u001b[0m\u001b[0;34m\"models/ft_enc.pth\"\u001b[0m\u001b[0;34m)\u001b[0m\u001b[0;34m\u001b[0m\u001b[0;34m\u001b[0m\u001b[0m\n\u001b[0m",
            "\u001b[0;31mAttributeError\u001b[0m: 'Learner' object has no attribute 'load_encoder'"
          ]
        }
      ]
    },
    {
      "cell_type": "markdown",
      "metadata": {
        "id": "x_6Uwv50DUF0",
        "colab_type": "text"
      },
      "source": [
        "# Class model"
      ]
    },
    {
      "cell_type": "code",
      "metadata": {
        "id": "4nmwP7QNFq2I",
        "colab_type": "code",
        "colab": {}
      },
      "source": [
        "data_lm = load_data(path, 'data_lm', bs=BS)\n",
        "data_clas = load_data(path, 'data_clas', bs=BS)"
      ],
      "execution_count": 0,
      "outputs": []
    },
    {
      "cell_type": "code",
      "metadata": {
        "id": "8Y0WQOt5yAVh",
        "colab_type": "code",
        "outputId": "64f10083-3b70-4fa3-e902-ab20db457dd6",
        "colab": {
          "base_uri": "https://localhost:8080/",
          "height": 17
        }
      },
      "source": [
        "# data_clas = TextClasDataBunch.from_df(path, df_train, df_valid, vocab=data_lm.train_ds.vocab, bs=BS,\n",
        "#                                       text_cols=[\"Token\"],\n",
        "#                                       label_cols=[\"Tag\"],\n",
        "#                                       include_bos=False)"
      ],
      "execution_count": 0,
      "outputs": [
        {
          "output_type": "display_data",
          "data": {
            "text/html": [
              ""
            ],
            "text/plain": [
              "<IPython.core.display.HTML object>"
            ]
          },
          "metadata": {
            "tags": []
          }
        },
        {
          "output_type": "display_data",
          "data": {
            "text/html": [
              ""
            ],
            "text/plain": [
              "<IPython.core.display.HTML object>"
            ]
          },
          "metadata": {
            "tags": []
          }
        }
      ]
    },
    {
      "cell_type": "code",
      "metadata": {
        "id": "zNom0flVyZFO",
        "colab_type": "code",
        "outputId": "55df4e0f-3086-4e71-d018-385dec5a0e71",
        "colab": {
          "base_uri": "https://localhost:8080/",
          "height": 206
        }
      },
      "source": [
        "data_clas.show_batch()"
      ],
      "execution_count": 0,
      "outputs": [
        {
          "output_type": "display_data",
          "data": {
            "text/html": [
              "<table border=\"1\" class=\"dataframe\">\n",
              "  <thead>\n",
              "    <tr style=\"text-align: right;\">\n",
              "      <th>text</th>\n",
              "      <th>target</th>\n",
              "    </tr>\n",
              "  </thead>\n",
              "  <tbody>\n",
              "    <tr>\n",
              "      <td>xxup day -- xxup company xxrep 4 - xxup period -- xxup consensus xxrep 4 - xxup range xxrep 7 - xxup xxunk</td>\n",
              "      <td>O</td>\n",
              "    </tr>\n",
              "    <tr>\n",
              "      <td>xxup xxunk : xxmaj xxunk - xxup xxunk</td>\n",
              "      <td>O</td>\n",
              "    </tr>\n",
              "    <tr>\n",
              "      <td>12 - 1 - 76 - 0</td>\n",
              "      <td>O</td>\n",
              "    </tr>\n",
              "    <tr>\n",
              "      <td>four - and - a - half</td>\n",
              "      <td>O</td>\n",
              "    </tr>\n",
              "    <tr>\n",
              "      <td>1996 - xxunk - 26</td>\n",
              "      <td>O</td>\n",
              "    </tr>\n",
              "  </tbody>\n",
              "</table>"
            ],
            "text/plain": [
              "<IPython.core.display.HTML object>"
            ]
          },
          "metadata": {
            "tags": []
          }
        }
      ]
    },
    {
      "cell_type": "code",
      "metadata": {
        "id": "R1QI08lN5gUg",
        "colab_type": "code",
        "colab": {}
      },
      "source": [
        "# data_clas.save(\"data_clas\")"
      ],
      "execution_count": 0,
      "outputs": []
    },
    {
      "cell_type": "code",
      "metadata": {
        "id": "0yPyUlUeZaTv",
        "colab_type": "code",
        "colab": {}
      },
      "source": [
        "from sklearn.metrics import f1_score\n",
        "import warnings\n",
        "warnings.filterwarnings('ignore')\n",
        "\n",
        "@np_func\n",
        "def f1(inp,targ): return f1_score(targ, np.argmax(inp, axis=-1), average='weighted')"
      ],
      "execution_count": 0,
      "outputs": []
    },
    {
      "cell_type": "markdown",
      "metadata": {
        "id": "szSHi-fNVQTb",
        "colab_type": "text"
      },
      "source": [
        "## Weighted Loss"
      ]
    },
    {
      "cell_type": "code",
      "metadata": {
        "id": "ksjqPhT2VDxA",
        "colab_type": "code",
        "outputId": "f0e607eb-195e-40df-ce60-52206522a15e",
        "colab": {
          "base_uri": "https://localhost:8080/",
          "height": 52
        }
      },
      "source": [
        "trn_LabelCounts = np.unique(data_clas.train_ds.y.items, return_counts=True)[1]\n",
        "val_LabelCounts = np.unique(data_clas.valid_ds.y.items, return_counts=True)[1]\n",
        "trn_LabelCounts, val_LabelCounts"
      ],
      "execution_count": 0,
      "outputs": [
        {
          "output_type": "execute_result",
          "data": {
            "text/plain": [
              "(array([  8286,   4556,  10001,  11128, 168343]),\n",
              " array([ 2094,  1264,  2092,  3145, 42336]))"
            ]
          },
          "metadata": {
            "tags": []
          },
          "execution_count": 21
        }
      ]
    },
    {
      "cell_type": "code",
      "metadata": {
        "id": "Cds8o-6jU87K",
        "colab_type": "code",
        "outputId": "0c0f58a2-01aa-4897-e70e-2d4882f49e5f",
        "colab": {
          "base_uri": "https://localhost:8080/",
          "height": 191
        }
      },
      "source": [
        "trn_weights = [1 - count/len(data_clas.train_ds.y) for count in trn_LabelCounts]\n",
        "val_weights = [1 - count/len(data_clas.valid_ds.y) for count in val_LabelCounts]\n",
        "trn_weights, val_weights"
      ],
      "execution_count": 0,
      "outputs": [
        {
          "output_type": "execute_result",
          "data": {
            "text/plain": [
              "([0.9590438625107506,\n",
              "  0.9774805500360825,\n",
              "  0.9505669404984332,\n",
              "  0.9449963917474816,\n",
              "  0.16791225520725206],\n",
              " [0.9588855510396419,\n",
              "  0.9751821091280359,\n",
              "  0.9589248198543127,\n",
              "  0.9382497889301211,\n",
              "  0.16875773104788827])"
            ]
          },
          "metadata": {
            "tags": []
          },
          "execution_count": 22
        }
      ]
    },
    {
      "cell_type": "code",
      "metadata": {
        "id": "ymCeZSlBaimx",
        "colab_type": "code",
        "colab": {}
      },
      "source": [
        "loss_weights = torch.FloatTensor(trn_weights).cuda()"
      ],
      "execution_count": 0,
      "outputs": []
    },
    {
      "cell_type": "code",
      "metadata": {
        "id": "QXZkIQ6MU0Km",
        "colab_type": "code",
        "colab": {}
      },
      "source": [
        "# source: https://github.com/fastai/fastai/blob/master//fastai/layers.py#L300:7\n",
        "# blog: https://bfarzin.github.io/Label-Smoothing/\n",
        "class WeightedLabelSmoothingCrossEntropy(nn.Module):\n",
        "    def __init__(self, weight, eps:float=0.1, reduction='mean'):\n",
        "        super().__init__()\n",
        "        self.weight,self.eps,self.reduction = weight,eps,reduction\n",
        "        \n",
        "    def forward(self, output, target):\n",
        "        c = output.size()[-1]\n",
        "        log_preds = F.log_softmax(output, dim=-1)\n",
        "        if self.reduction=='sum': loss = -log_preds.sum()\n",
        "        else:\n",
        "            loss = -log_preds.sum(dim=-1)\n",
        "            if self.reduction=='mean':  loss = loss.mean()\n",
        "        return loss*self.eps/c + (1-self.eps) * F.nll_loss(log_preds, target, weight=self.weight, reduction=self.reduction)"
      ],
      "execution_count": 0,
      "outputs": []
    },
    {
      "cell_type": "code",
      "metadata": {
        "id": "DR6D_BEqxWvy",
        "colab_type": "code",
        "colab": {}
      },
      "source": [
        "learn = text_classifier_learner(data_clas, AWD_LSTM, drop_mult=0.5, metrics=[accuracy, f1]).to_fp16(clip=0.1)\n",
        "learn.load_encoder('ft_enc');\n",
        "learn.loss_func = FlattenedLoss(WeightedLabelSmoothingCrossEntropy, weight=loss_weights)"
      ],
      "execution_count": 0,
      "outputs": []
    },
    {
      "cell_type": "code",
      "metadata": {
        "id": "wbF9rrCdSy2E",
        "colab_type": "code",
        "outputId": "4b6e52de-c0d5-4ae8-84c9-9e402f91ceb0",
        "colab": {
          "base_uri": "https://localhost:8080/",
          "height": 677
        }
      },
      "source": [
        "learn.model"
      ],
      "execution_count": 0,
      "outputs": [
        {
          "output_type": "execute_result",
          "data": {
            "text/plain": [
              "SequentialRNN(\n",
              "  (0): MultiBatchEncoder(\n",
              "    (module): AWD_LSTM(\n",
              "      (encoder): Embedding(8136, 400, padding_idx=1)\n",
              "      (encoder_dp): EmbeddingDropout(\n",
              "        (emb): Embedding(8136, 400, padding_idx=1)\n",
              "      )\n",
              "      (rnns): ModuleList(\n",
              "        (0): WeightDropout(\n",
              "          (module): LSTM(400, 1152, batch_first=True)\n",
              "        )\n",
              "        (1): WeightDropout(\n",
              "          (module): LSTM(1152, 1152, batch_first=True)\n",
              "        )\n",
              "        (2): WeightDropout(\n",
              "          (module): LSTM(1152, 400, batch_first=True)\n",
              "        )\n",
              "      )\n",
              "      (input_dp): RNNDropout()\n",
              "      (hidden_dps): ModuleList(\n",
              "        (0): RNNDropout()\n",
              "        (1): RNNDropout()\n",
              "        (2): RNNDropout()\n",
              "      )\n",
              "    )\n",
              "  )\n",
              "  (1): PoolingLinearClassifier(\n",
              "    (layers): Sequential(\n",
              "      (0): BatchNorm1d(1200, eps=1e-05, momentum=0.1, affine=True, track_running_stats=True)\n",
              "      (1): Dropout(p=0.2, inplace=False)\n",
              "      (2): Linear(in_features=1200, out_features=50, bias=True)\n",
              "      (3): ReLU(inplace=True)\n",
              "      (4): BatchNorm1d(50, eps=1e-05, momentum=0.1, affine=True, track_running_stats=True)\n",
              "      (5): Dropout(p=0.1, inplace=False)\n",
              "      (6): Linear(in_features=50, out_features=5, bias=True)\n",
              "    )\n",
              "  )\n",
              ")"
            ]
          },
          "metadata": {
            "tags": []
          },
          "execution_count": 112
        }
      ]
    },
    {
      "cell_type": "code",
      "metadata": {
        "id": "R0piqr0GxvIh",
        "colab_type": "code",
        "outputId": "e403891f-9c35-4432-f25f-bb78c042a0b7",
        "colab": {
          "base_uri": "https://localhost:8080/",
          "height": 296
        }
      },
      "source": [
        "learn.lr_find()\n",
        "learn.recorder.plot(skip_end=10)"
      ],
      "execution_count": 0,
      "outputs": [
        {
          "output_type": "display_data",
          "data": {
            "text/html": [
              ""
            ],
            "text/plain": [
              "<IPython.core.display.HTML object>"
            ]
          },
          "metadata": {
            "tags": []
          }
        },
        {
          "output_type": "stream",
          "text": [
            "LR Finder is complete, type {learner_name}.recorder.plot() to see the graph.\n"
          ],
          "name": "stdout"
        },
        {
          "output_type": "display_data",
          "data": {
            "image/png": "[encoded data removed]",
            "text/plain": [
              "<Figure size 432x288 with 1 Axes>"
            ]
          },
          "metadata": {
            "tags": []
          }
        }
      ]
    },
    {
      "cell_type": "code",
      "metadata": {
        "id": "NNRpLFwX5wLA",
        "colab_type": "code",
        "colab": {}
      },
      "source": [
        "lr = 5e-02\n",
        "moms = (0.8,0.7)\n",
        "wd = 0.1"
      ],
      "execution_count": 0,
      "outputs": []
    },
    {
      "cell_type": "code",
      "metadata": {
        "id": "hQIkqFHE58Zq",
        "colab_type": "code",
        "outputId": "54a962d4-3c0f-4164-edf4-38ddcdd6b314",
        "colab": {
          "base_uri": "https://localhost:8080/",
          "height": 81
        }
      },
      "source": [
        "learn.fit_one_cycle(1, slice(lr), moms=moms, wd=wd)"
      ],
      "execution_count": 0,
      "outputs": [
        {
          "output_type": "display_data",
          "data": {
            "text/html": [
              "<table border=\"1\" class=\"dataframe\">\n",
              "  <thead>\n",
              "    <tr style=\"text-align: left;\">\n",
              "      <th>epoch</th>\n",
              "      <th>train_loss</th>\n",
              "      <th>valid_loss</th>\n",
              "      <th>accuracy</th>\n",
              "      <th>f1</th>\n",
              "      <th>time</th>\n",
              "    </tr>\n",
              "  </thead>\n",
              "  <tbody>\n",
              "    <tr>\n",
              "      <td>0</td>\n",
              "      <td>1.052803</td>\n",
              "      <td>0.702191</td>\n",
              "      <td>0.880073</td>\n",
              "      <td>0.871107</td>\n",
              "      <td>00:26</td>\n",
              "    </tr>\n",
              "  </tbody>\n",
              "</table>"
            ],
            "text/plain": [
              "<IPython.core.display.HTML object>"
            ]
          },
          "metadata": {
            "tags": []
          }
        }
      ]
    },
    {
      "cell_type": "code",
      "metadata": {
        "id": "6o-W0AggJwv_",
        "colab_type": "code",
        "outputId": "1a2424f4-c784-4fd5-f6f3-dec24f2091b3",
        "colab": {
          "base_uri": "https://localhost:8080/",
          "height": 112
        }
      },
      "source": [
        "learn.freeze_to(-2)\n",
        "learn.fit_one_cycle(2, slice(lr/2/(2.6**4),lr), moms=moms, wd=wd)"
      ],
      "execution_count": 0,
      "outputs": [
        {
          "output_type": "display_data",
          "data": {
            "text/html": [
              "<table border=\"1\" class=\"dataframe\">\n",
              "  <thead>\n",
              "    <tr style=\"text-align: left;\">\n",
              "      <th>epoch</th>\n",
              "      <th>train_loss</th>\n",
              "      <th>valid_loss</th>\n",
              "      <th>accuracy</th>\n",
              "      <th>f1</th>\n",
              "      <th>time</th>\n",
              "    </tr>\n",
              "  </thead>\n",
              "  <tbody>\n",
              "    <tr>\n",
              "      <td>0</td>\n",
              "      <td>1.012140</td>\n",
              "      <td>0.837703</td>\n",
              "      <td>0.831871</td>\n",
              "      <td>0.797422</td>\n",
              "      <td>00:30</td>\n",
              "    </tr>\n",
              "    <tr>\n",
              "      <td>1</td>\n",
              "      <td>0.837523</td>\n",
              "      <td>0.869586</td>\n",
              "      <td>0.834462</td>\n",
              "      <td>0.802615</td>\n",
              "      <td>00:29</td>\n",
              "    </tr>\n",
              "  </tbody>\n",
              "</table>"
            ],
            "text/plain": [
              "<IPython.core.display.HTML object>"
            ]
          },
          "metadata": {
            "tags": []
          }
        }
      ]
    },
    {
      "cell_type": "code",
      "metadata": {
        "id": "N7A803yeJwyb",
        "colab_type": "code",
        "outputId": "414bb152-0571-48f6-af99-9efc25f4e8c6",
        "colab": {
          "base_uri": "https://localhost:8080/",
          "height": 112
        }
      },
      "source": [
        "learn.freeze_to(-3)\n",
        "learn.fit_one_cycle(2, slice(lr/2/(2.6**4),lr), moms=moms, wd=wd)"
      ],
      "execution_count": 0,
      "outputs": [
        {
          "output_type": "display_data",
          "data": {
            "text/html": [
              "<table border=\"1\" class=\"dataframe\">\n",
              "  <thead>\n",
              "    <tr style=\"text-align: left;\">\n",
              "      <th>epoch</th>\n",
              "      <th>train_loss</th>\n",
              "      <th>valid_loss</th>\n",
              "      <th>accuracy</th>\n",
              "      <th>f1</th>\n",
              "      <th>time</th>\n",
              "    </tr>\n",
              "  </thead>\n",
              "  <tbody>\n",
              "    <tr>\n",
              "      <td>0</td>\n",
              "      <td>0.948432</td>\n",
              "      <td>1.260719</td>\n",
              "      <td>0.843553</td>\n",
              "      <td>0.831475</td>\n",
              "      <td>00:34</td>\n",
              "    </tr>\n",
              "    <tr>\n",
              "      <td>1</td>\n",
              "      <td>0.852915</td>\n",
              "      <td>0.900489</td>\n",
              "      <td>0.890852</td>\n",
              "      <td>0.882369</td>\n",
              "      <td>00:34</td>\n",
              "    </tr>\n",
              "  </tbody>\n",
              "</table>"
            ],
            "text/plain": [
              "<IPython.core.display.HTML object>"
            ]
          },
          "metadata": {
            "tags": []
          }
        }
      ]
    },
    {
      "cell_type": "code",
      "metadata": {
        "id": "u9-hTyy8Jwru",
        "colab_type": "code",
        "outputId": "b19a975b-f257-4d1e-d577-51023d7eb68e",
        "colab": {
          "base_uri": "https://localhost:8080/",
          "height": 112
        }
      },
      "source": [
        "learn.unfreeze()\n",
        "learn.fit_one_cycle(2, slice(lr/5/(2.6**4),lr), moms=moms, wd=wd)"
      ],
      "execution_count": 0,
      "outputs": [
        {
          "output_type": "display_data",
          "data": {
            "text/html": [
              "<table border=\"1\" class=\"dataframe\">\n",
              "  <thead>\n",
              "    <tr style=\"text-align: left;\">\n",
              "      <th>epoch</th>\n",
              "      <th>train_loss</th>\n",
              "      <th>valid_loss</th>\n",
              "      <th>accuracy</th>\n",
              "      <th>f1</th>\n",
              "      <th>time</th>\n",
              "    </tr>\n",
              "  </thead>\n",
              "  <tbody>\n",
              "    <tr>\n",
              "      <td>0</td>\n",
              "      <td>0.850330</td>\n",
              "      <td>0.911130</td>\n",
              "      <td>0.889969</td>\n",
              "      <td>0.881296</td>\n",
              "      <td>00:41</td>\n",
              "    </tr>\n",
              "    <tr>\n",
              "      <td>1</td>\n",
              "      <td>0.813723</td>\n",
              "      <td>0.691661</td>\n",
              "      <td>0.891736</td>\n",
              "      <td>0.883300</td>\n",
              "      <td>00:42</td>\n",
              "    </tr>\n",
              "  </tbody>\n",
              "</table>"
            ],
            "text/plain": [
              "<IPython.core.display.HTML object>"
            ]
          },
          "metadata": {
            "tags": []
          }
        }
      ]
    },
    {
      "cell_type": "code",
      "metadata": {
        "id": "zBNEjB9cYPT0",
        "colab_type": "code",
        "colab": {}
      },
      "source": [
        ""
      ],
      "execution_count": 0,
      "outputs": []
    },
    {
      "cell_type": "code",
      "metadata": {
        "id": "U3ednHswYOwB",
        "colab_type": "code",
        "outputId": "15ac4f01-bbef-491b-b307-21bfaec54d82",
        "colab": {
          "base_uri": "https://localhost:8080/",
          "height": 17
        }
      },
      "source": [
        "preds,y,losses = learn.get_preds(with_loss=True)\n",
        "predictions = np.argmax(preds, axis = 1)"
      ],
      "execution_count": 0,
      "outputs": [
        {
          "output_type": "display_data",
          "data": {
            "text/html": [
              ""
            ],
            "text/plain": [
              "<IPython.core.display.HTML object>"
            ]
          },
          "metadata": {
            "tags": []
          }
        }
      ]
    },
    {
      "cell_type": "code",
      "metadata": {
        "id": "sne9VnYt6CEy",
        "colab_type": "code",
        "outputId": "ef514db0-cfce-4b6d-fd97-634772cb6aaf",
        "colab": {
          "base_uri": "https://localhost:8080/",
          "height": 208
        }
      },
      "source": [
        "from sklearn.metrics import confusion_matrix\n",
        "cm = confusion_matrix(np.array(y), np.array(predictions))\n",
        "print(cm)\n",
        "\n",
        "## acc\n",
        "print(f'accuracy global: {(cm[0,0]+cm[1,1]+cm[2,2]+cm[3,3]+cm[4,4])/(cm.sum())}')\n",
        "\n",
        "# acc neg, acc pos\n",
        "print(f'I-LOC accuracy: {cm[0,0]/(cm.sum(1)[0])*100}') \n",
        "print(f'I-MISC accuracy: {cm[1,1]/(cm.sum(1)[1])*100}')\n",
        "print(f'I-ORG accuracy: {cm[2,2]/(cm.sum(1)[2])*100}')\n",
        "print(f'I-PER accuracy: {cm[3,3]/(cm.sum(1)[3])*100}')\n",
        "print(f'O accuracy: {cm[4,4]/(cm.sum(1)[4])*100}')"
      ],
      "execution_count": 0,
      "outputs": [
        {
          "output_type": "stream",
          "text": [
            "[[  174    13   485  1403    19]\n",
            " [   19   280   134   746    85]\n",
            " [   46    18   736  1147   145]\n",
            " [    2     4   123  2941    75]\n",
            " [    6    81   245   718 41286]]\n",
            "accuracy global: 0.891735877952524\n",
            "I-LOC accuracy: 8.30945558739255\n",
            "I-MISC accuracy: 22.151898734177212\n",
            "I-ORG accuracy: 35.18164435946463\n",
            "I-PER accuracy: 93.51351351351352\n",
            "O accuracy: 97.51984126984127\n"
          ],
          "name": "stdout"
        }
      ]
    },
    {
      "cell_type": "code",
      "metadata": {
        "id": "34X3zymy6YB8",
        "colab_type": "code",
        "outputId": "477d4d81-9161-448f-cf5f-92f3550f38de",
        "colab": {
          "base_uri": "https://localhost:8080/",
          "height": 69
        }
      },
      "source": [
        "learn.predict(\"United\")"
      ],
      "execution_count": 0,
      "outputs": [
        {
          "output_type": "execute_result",
          "data": {
            "text/plain": [
              "(Category I-LOC,\n",
              " tensor(0),\n",
              " tensor([ 2.3730, -1.1455,  1.0000, -4.0117, -0.1790]))"
            ]
          },
          "metadata": {
            "tags": []
          },
          "execution_count": 134
        }
      ]
    },
    {
      "cell_type": "code",
      "metadata": {
        "id": "fcIuexMO65Wk",
        "colab_type": "code",
        "colab": {}
      },
      "source": [
        ""
      ],
      "execution_count": 0,
      "outputs": []
    },
    {
      "cell_type": "markdown",
      "metadata": {
        "id": "bmqL1A5Itg5x",
        "colab_type": "text"
      },
      "source": [
        "# Decoder"
      ]
    },
    {
      "cell_type": "code",
      "metadata": {
        "id": "jAby0IR7unwb",
        "colab_type": "code",
        "colab": {}
      },
      "source": [
        "data = load_data(path, 'data', bs=BS)\n",
        "# data.show_batch(1)"
      ],
      "execution_count": 0,
      "outputs": []
    },
    {
      "cell_type": "code",
      "metadata": {
        "id": "mPHEv2KwZJvg",
        "colab_type": "code",
        "outputId": "da7e1e41-e3b5-4cdb-a6ad-064fe55d2600",
        "colab": {
          "base_uri": "https://localhost:8080/",
          "height": 590
        }
      },
      "source": [
        "learn.model"
      ],
      "execution_count": 0,
      "outputs": [
        {
          "output_type": "execute_result",
          "data": {
            "text/plain": [
              "SequentialRNN(\n",
              "  (0): MultiBatchEncoder(\n",
              "    (module): AWD_LSTM(\n",
              "      (encoder): Embedding(8136, 400, padding_idx=1)\n",
              "      (encoder_dp): EmbeddingDropout(\n",
              "        (emb): Embedding(8136, 400, padding_idx=1)\n",
              "      )\n",
              "      (rnns): ModuleList(\n",
              "        (0): WeightDropout(\n",
              "          (module): LSTM(400, 1152, batch_first=True)\n",
              "        )\n",
              "        (1): WeightDropout(\n",
              "          (module): LSTM(1152, 1152, batch_first=True)\n",
              "        )\n",
              "        (2): WeightDropout(\n",
              "          (module): LSTM(1152, 400, batch_first=True)\n",
              "        )\n",
              "      )\n",
              "      (input_dp): RNNDropout()\n",
              "      (hidden_dps): ModuleList(\n",
              "        (0): RNNDropout()\n",
              "        (1): RNNDropout()\n",
              "        (2): RNNDropout()\n",
              "      )\n",
              "    )\n",
              "  )\n",
              "  (1): LinearDecoder(\n",
              "    (dropout): Dropout(p=0.1, inplace=False)\n",
              "    (hidden_to_tag): Linear(in_features=1152, out_features=24, bias=True)\n",
              "    (activation): LogSoftmax()\n",
              "    (loss_f): NLLLoss()\n",
              "  )\n",
              ")"
            ]
          },
          "metadata": {
            "tags": []
          },
          "execution_count": 152
        }
      ]
    },
    {
      "cell_type": "code",
      "metadata": {
        "id": "e0T2obeduKOc",
        "colab_type": "code",
        "colab": {}
      },
      "source": [
        "def get_ner(arch:Callable, vocab_sz:int, n_tags:int, bptt:int=70, max_len:int=20*70, config:dict=None,\n",
        "                        drop_mult:float=1., lin_ftrs:Collection[int]=None, ps:Collection[float]=None,\n",
        "                        pad_idx:int=1, weights:Collection[float]=None) -> nn.Module:\n",
        "    \"Create a text classifier from `arch` and its `config`, maybe `pretrained`.\"\n",
        "    meta = _model_meta[arch]\n",
        "    config = ifnone(config, meta['config_clas']).copy()\n",
        "    for k in config.keys():\n",
        "        if k.endswith('_p'): config[k] *= drop_mult\n",
        "    config.pop('output_p')\n",
        "    init = config.pop('init') if 'init' in config else None\n",
        "    encoder = MultiBatchEncoder(bptt, max_len, arch(vocab_sz, **config), pad_idx=pad_idx)\n",
        "    model = SequentialRNN(encoder, LinearDecoder(output_size=n_tags,\n",
        "                                                 n_hid=config[\"n_hid\"], weights=loss_weights))\n",
        "    return model if init is None else model.apply(init)\n",
        "\n",
        "def ner_learner(data:DataBunch, arch:Callable, bptt:int=70, max_len:int=70*20, config:dict=None,\n",
        "                            pretrained:bool=True, drop_mult:float=1., lin_ftrs:Collection[int]=None,\n",
        "                            ps:Collection[float]=None, weights:Collection[float]=None, **learn_kwargs) -> 'NerLearner':\n",
        "    \"Create a `Learner` with a text classifier from `data` and `arch`.\"\n",
        "    model = get_ner(arch, len(data.vocab.itos), len(data.y.vocab.itos), bptt=bptt, max_len=max_len,\n",
        "                              config=config, drop_mult=drop_mult, lin_ftrs=lin_ftrs, ps=ps,\n",
        "                              weights=weights)\n",
        "    meta = _model_meta[arch]\n",
        "    learn = RNNLearner(data, model, split_func=meta['split_clas'], **learn_kwargs)\n",
        "    if pretrained:\n",
        "        if 'url' not in meta:\n",
        "            warn(\"There are no pretrained weights for that architecture yet!\")\n",
        "            return learn\n",
        "        model_path = untar_data(meta['url'], data=False)\n",
        "        fnames = [list(model_path.glob(f'*.{ext}'))[0] for ext in ['pth', 'pkl']]\n",
        "        learn = learn.load_pretrained(*fnames, strict=False)\n",
        "        learn.freeze()\n",
        "    return learn"
      ],
      "execution_count": 0,
      "outputs": []
    },
    {
      "cell_type": "code",
      "metadata": {
        "id": "pMdPDmxKtiDn",
        "colab_type": "code",
        "colab": {}
      },
      "source": [
        "from fastai.text.learner import _model_meta\n",
        "\n",
        "class LinearDecoder(nn.Module):\n",
        "    def __init__(self, output_size, n_hid, dropout_p=0.1, weights=None):\n",
        "        \"\"\"\n",
        "        :param output_size: number of tags\n",
        "        :param n_hid: encoder output dimensions\n",
        "        :param dropout: dropout to apply to *raw* encoder outputs\n",
        "        :param weights: loss weights to deal with class imbalance\n",
        "        \"\"\"\n",
        "        super().__init__()\n",
        "        self.dropout = nn.Dropout(dropout_p)\n",
        "        self.hidden_to_tag = nn.Linear(n_hid, output_size)\n",
        "        self.activation = nn.LogSoftmax(dim=2)\n",
        "        self.loss_f = nn.NLLLoss(reduction=\"none\", weight=weights)\n",
        "        \n",
        "    def forward(self, input):\n",
        "        \"\"\"\n",
        "        Returns predictions and loss\n",
        "        \n",
        "        Parameter `mask` is used to mask out tokens such as punctuation or xxbos\n",
        "        :param input_seq: a batch of sentences of same size\n",
        "        :param output_seq: a batch of tag sequences\n",
        "        :param mask: 1 for words that you need to provide tags to\n",
        "        \"\"\"\n",
        "        input_seq, output_seq, mask = input\n",
        "\n",
        "        # encoded_states = self.dropout(self.encoder(input_seq)[0][2])\n",
        "        encoded_states = self.dropout(input_seq[0][2])\n",
        "        display(self.hidden_to_tag(encoded_states).shape)\n",
        "        predictions = self.activation(self.hidden_to_tag(encoded_states))\n",
        "        losses = list()\n",
        "        for i, (pred, active, out) in enumerate(zip(predictions, mask, output_seq)):\n",
        "            loss = self.loss_f(pred, out) * active\n",
        "            losses.append(torch.sum(loss))\n",
        "        losses = torch.stack(losses)\n",
        "        total_loss = torch.sum(losses)\n",
        "\n",
        "        return predictions, total_loss\n",
        "  "
      ],
      "execution_count": 0,
      "outputs": []
    },
    {
      "cell_type": "code",
      "metadata": {
        "id": "irL1lh_Euwfa",
        "colab_type": "code",
        "outputId": "f4a8346f-8b98-42e4-935a-c2cc9e2cf9f4",
        "colab": {
          "base_uri": "https://localhost:8080/",
          "height": 458
        }
      },
      "source": [
        "learn = ner_learner(data, AWD_LSTM, drop_mult=0.5, metrics=[accuracy, f1]).to_fp16()\n",
        "learn.load_encoder('ft_enc');\n",
        "# learn.loss_func = FlattenedLoss(WeightedLabelSmoothingCrossEntropy, weight=loss_weights)\n",
        "learn.lr_find()"
      ],
      "execution_count": 0,
      "outputs": [
        {
          "output_type": "display_data",
          "data": {
            "text/html": [
              "\n",
              "    <div>\n",
              "        <style>\n",
              "            /* Turns off some styling */\n",
              "            progress {\n",
              "                /* gets rid of default border in Firefox and Opera. */\n",
              "                border: none;\n",
              "                /* Needs to be in here for Safari polyfill so background images work as expected. */\n",
              "                background-size: auto;\n",
              "            }\n",
              "            .progress-bar-interrupted, .progress-bar-interrupted::-webkit-progress-bar {\n",
              "                background: #F44336;\n",
              "            }\n",
              "        </style>\n",
              "      <progress value='0' class='' max='15', style='width:300px; height:20px; vertical-align: middle;'></progress>\n",
              "      0.00% [0/15 00:00<00:00]\n",
              "    </div>\n",
              "    \n",
              "<table border=\"1\" class=\"dataframe\">\n",
              "  <thead>\n",
              "    <tr style=\"text-align: left;\">\n",
              "      <th>epoch</th>\n",
              "      <th>train_loss</th>\n",
              "      <th>valid_loss</th>\n",
              "      <th>accuracy</th>\n",
              "      <th>f1</th>\n",
              "      <th>time</th>\n",
              "    </tr>\n",
              "  </thead>\n",
              "  <tbody>\n",
              "  </tbody>\n",
              "</table><p>\n",
              "\n",
              "    <div>\n",
              "        <style>\n",
              "            /* Turns off some styling */\n",
              "            progress {\n",
              "                /* gets rid of default border in Firefox and Opera. */\n",
              "                border: none;\n",
              "                /* Needs to be in here for Safari polyfill so background images work as expected. */\n",
              "                background-size: auto;\n",
              "            }\n",
              "            .progress-bar-interrupted, .progress-bar-interrupted::-webkit-progress-bar {\n",
              "                background: #F44336;\n",
              "            }\n",
              "        </style>\n",
              "      <progress value='0' class='' max='7', style='width:300px; height:20px; vertical-align: middle;'></progress>\n",
              "      0.00% [0/7 00:00<00:00]\n",
              "    </div>\n",
              "    "
            ],
            "text/plain": [
              "<IPython.core.display.HTML object>"
            ]
          },
          "metadata": {
            "tags": []
          }
        },
        {
          "output_type": "display_data",
          "data": {
            "text/plain": [
              "torch.Size([1336, 24])"
            ]
          },
          "metadata": {
            "tags": []
          }
        },
        {
          "output_type": "stream",
          "text": [
            "LR Finder is complete, type {learner_name}.recorder.plot() to see the graph.\n"
          ],
          "name": "stdout"
        },
        {
          "output_type": "error",
          "ename": "IndexError",
          "evalue": "ignored",
          "traceback": [
            "\u001b[0;31m---------------------------------------------------------------------------\u001b[0m",
            "\u001b[0;31mIndexError\u001b[0m                                Traceback (most recent call last)",
            "\u001b[0;32m<ipython-input-100-dcd8b963ba8b>\u001b[0m in \u001b[0;36m<module>\u001b[0;34m()\u001b[0m\n\u001b[1;32m      2\u001b[0m \u001b[0mlearn\u001b[0m\u001b[0;34m.\u001b[0m\u001b[0mload_encoder\u001b[0m\u001b[0;34m(\u001b[0m\u001b[0;34m'ft_enc'\u001b[0m\u001b[0;34m)\u001b[0m\u001b[0;34m;\u001b[0m\u001b[0;34m\u001b[0m\u001b[0;34m\u001b[0m\u001b[0m\n\u001b[1;32m      3\u001b[0m \u001b[0;31m# learn.loss_func = FlattenedLoss(WeightedLabelSmoothingCrossEntropy, weight=loss_weights)\u001b[0m\u001b[0;34m\u001b[0m\u001b[0;34m\u001b[0m\u001b[0;34m\u001b[0m\u001b[0m\n\u001b[0;32m----> 4\u001b[0;31m \u001b[0mlearn\u001b[0m\u001b[0;34m.\u001b[0m\u001b[0mlr_find\u001b[0m\u001b[0;34m(\u001b[0m\u001b[0;34m)\u001b[0m\u001b[0;34m\u001b[0m\u001b[0;34m\u001b[0m\u001b[0m\n\u001b[0m",
            "\u001b[0;32m/usr/local/lib/python3.6/dist-packages/fastai/train.py\u001b[0m in \u001b[0;36mlr_find\u001b[0;34m(learn, start_lr, end_lr, num_it, stop_div, wd)\u001b[0m\n\u001b[1;32m     39\u001b[0m     \u001b[0mcb\u001b[0m \u001b[0;34m=\u001b[0m \u001b[0mLRFinder\u001b[0m\u001b[0;34m(\u001b[0m\u001b[0mlearn\u001b[0m\u001b[0;34m,\u001b[0m \u001b[0mstart_lr\u001b[0m\u001b[0;34m,\u001b[0m \u001b[0mend_lr\u001b[0m\u001b[0;34m,\u001b[0m \u001b[0mnum_it\u001b[0m\u001b[0;34m,\u001b[0m \u001b[0mstop_div\u001b[0m\u001b[0;34m)\u001b[0m\u001b[0;34m\u001b[0m\u001b[0;34m\u001b[0m\u001b[0m\n\u001b[1;32m     40\u001b[0m     \u001b[0mepochs\u001b[0m \u001b[0;34m=\u001b[0m \u001b[0mint\u001b[0m\u001b[0;34m(\u001b[0m\u001b[0mnp\u001b[0m\u001b[0;34m.\u001b[0m\u001b[0mceil\u001b[0m\u001b[0;34m(\u001b[0m\u001b[0mnum_it\u001b[0m\u001b[0;34m/\u001b[0m\u001b[0mlen\u001b[0m\u001b[0;34m(\u001b[0m\u001b[0mlearn\u001b[0m\u001b[0;34m.\u001b[0m\u001b[0mdata\u001b[0m\u001b[0;34m.\u001b[0m\u001b[0mtrain_dl\u001b[0m\u001b[0;34m)\u001b[0m\u001b[0;34m)\u001b[0m\u001b[0;34m)\u001b[0m\u001b[0;34m\u001b[0m\u001b[0;34m\u001b[0m\u001b[0m\n\u001b[0;32m---> 41\u001b[0;31m     \u001b[0mlearn\u001b[0m\u001b[0;34m.\u001b[0m\u001b[0mfit\u001b[0m\u001b[0;34m(\u001b[0m\u001b[0mepochs\u001b[0m\u001b[0;34m,\u001b[0m \u001b[0mstart_lr\u001b[0m\u001b[0;34m,\u001b[0m \u001b[0mcallbacks\u001b[0m\u001b[0;34m=\u001b[0m\u001b[0;34m[\u001b[0m\u001b[0mcb\u001b[0m\u001b[0;34m]\u001b[0m\u001b[0;34m,\u001b[0m \u001b[0mwd\u001b[0m\u001b[0;34m=\u001b[0m\u001b[0mwd\u001b[0m\u001b[0;34m)\u001b[0m\u001b[0;34m\u001b[0m\u001b[0;34m\u001b[0m\u001b[0m\n\u001b[0m\u001b[1;32m     42\u001b[0m \u001b[0;34m\u001b[0m\u001b[0m\n\u001b[1;32m     43\u001b[0m def to_fp16(learn:Learner, loss_scale:float=None, max_noskip:int=1000, dynamic:bool=True, clip:float=None,\n",
            "\u001b[0;32m/usr/local/lib/python3.6/dist-packages/fastai/basic_train.py\u001b[0m in \u001b[0;36mfit\u001b[0;34m(self, epochs, lr, wd, callbacks)\u001b[0m\n\u001b[1;32m    198\u001b[0m         \u001b[0;32melse\u001b[0m\u001b[0;34m:\u001b[0m \u001b[0mself\u001b[0m\u001b[0;34m.\u001b[0m\u001b[0mopt\u001b[0m\u001b[0;34m.\u001b[0m\u001b[0mlr\u001b[0m\u001b[0;34m,\u001b[0m\u001b[0mself\u001b[0m\u001b[0;34m.\u001b[0m\u001b[0mopt\u001b[0m\u001b[0;34m.\u001b[0m\u001b[0mwd\u001b[0m \u001b[0;34m=\u001b[0m \u001b[0mlr\u001b[0m\u001b[0;34m,\u001b[0m\u001b[0mwd\u001b[0m\u001b[0;34m\u001b[0m\u001b[0;34m\u001b[0m\u001b[0m\n\u001b[1;32m    199\u001b[0m         \u001b[0mcallbacks\u001b[0m \u001b[0;34m=\u001b[0m \u001b[0;34m[\u001b[0m\u001b[0mcb\u001b[0m\u001b[0;34m(\u001b[0m\u001b[0mself\u001b[0m\u001b[0;34m)\u001b[0m \u001b[0;32mfor\u001b[0m \u001b[0mcb\u001b[0m \u001b[0;32min\u001b[0m \u001b[0mself\u001b[0m\u001b[0;34m.\u001b[0m\u001b[0mcallback_fns\u001b[0m \u001b[0;34m+\u001b[0m \u001b[0mlistify\u001b[0m\u001b[0;34m(\u001b[0m\u001b[0mdefaults\u001b[0m\u001b[0;34m.\u001b[0m\u001b[0mextra_callback_fns\u001b[0m\u001b[0;34m)\u001b[0m\u001b[0;34m]\u001b[0m \u001b[0;34m+\u001b[0m \u001b[0mlistify\u001b[0m\u001b[0;34m(\u001b[0m\u001b[0mcallbacks\u001b[0m\u001b[0;34m)\u001b[0m\u001b[0;34m\u001b[0m\u001b[0;34m\u001b[0m\u001b[0m\n\u001b[0;32m--> 200\u001b[0;31m         \u001b[0mfit\u001b[0m\u001b[0;34m(\u001b[0m\u001b[0mepochs\u001b[0m\u001b[0;34m,\u001b[0m \u001b[0mself\u001b[0m\u001b[0;34m,\u001b[0m \u001b[0mmetrics\u001b[0m\u001b[0;34m=\u001b[0m\u001b[0mself\u001b[0m\u001b[0;34m.\u001b[0m\u001b[0mmetrics\u001b[0m\u001b[0;34m,\u001b[0m \u001b[0mcallbacks\u001b[0m\u001b[0;34m=\u001b[0m\u001b[0mself\u001b[0m\u001b[0;34m.\u001b[0m\u001b[0mcallbacks\u001b[0m\u001b[0;34m+\u001b[0m\u001b[0mcallbacks\u001b[0m\u001b[0;34m)\u001b[0m\u001b[0;34m\u001b[0m\u001b[0;34m\u001b[0m\u001b[0m\n\u001b[0m\u001b[1;32m    201\u001b[0m \u001b[0;34m\u001b[0m\u001b[0m\n\u001b[1;32m    202\u001b[0m     \u001b[0;32mdef\u001b[0m \u001b[0mcreate_opt\u001b[0m\u001b[0;34m(\u001b[0m\u001b[0mself\u001b[0m\u001b[0;34m,\u001b[0m \u001b[0mlr\u001b[0m\u001b[0;34m:\u001b[0m\u001b[0mFloats\u001b[0m\u001b[0;34m,\u001b[0m \u001b[0mwd\u001b[0m\u001b[0;34m:\u001b[0m\u001b[0mFloats\u001b[0m\u001b[0;34m=\u001b[0m\u001b[0;36m0.\u001b[0m\u001b[0;34m)\u001b[0m\u001b[0;34m->\u001b[0m\u001b[0;32mNone\u001b[0m\u001b[0;34m:\u001b[0m\u001b[0;34m\u001b[0m\u001b[0;34m\u001b[0m\u001b[0m\n",
            "\u001b[0;32m/usr/local/lib/python3.6/dist-packages/fastai/basic_train.py\u001b[0m in \u001b[0;36mfit\u001b[0;34m(epochs, learn, callbacks, metrics)\u001b[0m\n\u001b[1;32m     99\u001b[0m             \u001b[0;32mfor\u001b[0m \u001b[0mxb\u001b[0m\u001b[0;34m,\u001b[0m\u001b[0myb\u001b[0m \u001b[0;32min\u001b[0m \u001b[0mprogress_bar\u001b[0m\u001b[0;34m(\u001b[0m\u001b[0mlearn\u001b[0m\u001b[0;34m.\u001b[0m\u001b[0mdata\u001b[0m\u001b[0;34m.\u001b[0m\u001b[0mtrain_dl\u001b[0m\u001b[0;34m,\u001b[0m \u001b[0mparent\u001b[0m\u001b[0;34m=\u001b[0m\u001b[0mpbar\u001b[0m\u001b[0;34m)\u001b[0m\u001b[0;34m:\u001b[0m\u001b[0;34m\u001b[0m\u001b[0;34m\u001b[0m\u001b[0m\n\u001b[1;32m    100\u001b[0m                 \u001b[0mxb\u001b[0m\u001b[0;34m,\u001b[0m \u001b[0myb\u001b[0m \u001b[0;34m=\u001b[0m \u001b[0mcb_handler\u001b[0m\u001b[0;34m.\u001b[0m\u001b[0mon_batch_begin\u001b[0m\u001b[0;34m(\u001b[0m\u001b[0mxb\u001b[0m\u001b[0;34m,\u001b[0m \u001b[0myb\u001b[0m\u001b[0;34m)\u001b[0m\u001b[0;34m\u001b[0m\u001b[0;34m\u001b[0m\u001b[0m\n\u001b[0;32m--> 101\u001b[0;31m                 \u001b[0mloss\u001b[0m \u001b[0;34m=\u001b[0m \u001b[0mloss_batch\u001b[0m\u001b[0;34m(\u001b[0m\u001b[0mlearn\u001b[0m\u001b[0;34m.\u001b[0m\u001b[0mmodel\u001b[0m\u001b[0;34m,\u001b[0m \u001b[0mxb\u001b[0m\u001b[0;34m,\u001b[0m \u001b[0myb\u001b[0m\u001b[0;34m,\u001b[0m \u001b[0mlearn\u001b[0m\u001b[0;34m.\u001b[0m\u001b[0mloss_func\u001b[0m\u001b[0;34m,\u001b[0m \u001b[0mlearn\u001b[0m\u001b[0;34m.\u001b[0m\u001b[0mopt\u001b[0m\u001b[0;34m,\u001b[0m \u001b[0mcb_handler\u001b[0m\u001b[0;34m)\u001b[0m\u001b[0;34m\u001b[0m\u001b[0;34m\u001b[0m\u001b[0m\n\u001b[0m\u001b[1;32m    102\u001b[0m                 \u001b[0;32mif\u001b[0m \u001b[0mcb_handler\u001b[0m\u001b[0;34m.\u001b[0m\u001b[0mon_batch_end\u001b[0m\u001b[0;34m(\u001b[0m\u001b[0mloss\u001b[0m\u001b[0;34m)\u001b[0m\u001b[0;34m:\u001b[0m \u001b[0;32mbreak\u001b[0m\u001b[0;34m\u001b[0m\u001b[0;34m\u001b[0m\u001b[0m\n\u001b[1;32m    103\u001b[0m \u001b[0;34m\u001b[0m\u001b[0m\n",
            "\u001b[0;32m/usr/local/lib/python3.6/dist-packages/fastai/basic_train.py\u001b[0m in \u001b[0;36mloss_batch\u001b[0;34m(model, xb, yb, loss_func, opt, cb_handler)\u001b[0m\n\u001b[1;32m     24\u001b[0m     \u001b[0;32mif\u001b[0m \u001b[0;32mnot\u001b[0m \u001b[0mis_listy\u001b[0m\u001b[0;34m(\u001b[0m\u001b[0mxb\u001b[0m\u001b[0;34m)\u001b[0m\u001b[0;34m:\u001b[0m \u001b[0mxb\u001b[0m \u001b[0;34m=\u001b[0m \u001b[0;34m[\u001b[0m\u001b[0mxb\u001b[0m\u001b[0;34m]\u001b[0m\u001b[0;34m\u001b[0m\u001b[0;34m\u001b[0m\u001b[0m\n\u001b[1;32m     25\u001b[0m     \u001b[0;32mif\u001b[0m \u001b[0;32mnot\u001b[0m \u001b[0mis_listy\u001b[0m\u001b[0;34m(\u001b[0m\u001b[0myb\u001b[0m\u001b[0;34m)\u001b[0m\u001b[0;34m:\u001b[0m \u001b[0myb\u001b[0m \u001b[0;34m=\u001b[0m \u001b[0;34m[\u001b[0m\u001b[0myb\u001b[0m\u001b[0;34m]\u001b[0m\u001b[0;34m\u001b[0m\u001b[0;34m\u001b[0m\u001b[0m\n\u001b[0;32m---> 26\u001b[0;31m     \u001b[0mout\u001b[0m \u001b[0;34m=\u001b[0m \u001b[0mmodel\u001b[0m\u001b[0;34m(\u001b[0m\u001b[0;34m*\u001b[0m\u001b[0mxb\u001b[0m\u001b[0;34m)\u001b[0m\u001b[0;34m\u001b[0m\u001b[0;34m\u001b[0m\u001b[0m\n\u001b[0m\u001b[1;32m     27\u001b[0m     \u001b[0mout\u001b[0m \u001b[0;34m=\u001b[0m \u001b[0mcb_handler\u001b[0m\u001b[0;34m.\u001b[0m\u001b[0mon_loss_begin\u001b[0m\u001b[0;34m(\u001b[0m\u001b[0mout\u001b[0m\u001b[0;34m)\u001b[0m\u001b[0;34m\u001b[0m\u001b[0;34m\u001b[0m\u001b[0m\n\u001b[1;32m     28\u001b[0m \u001b[0;34m\u001b[0m\u001b[0m\n",
            "\u001b[0;32m/usr/local/lib/python3.6/dist-packages/torch/nn/modules/module.py\u001b[0m in \u001b[0;36m__call__\u001b[0;34m(self, *input, **kwargs)\u001b[0m\n\u001b[1;32m    539\u001b[0m             \u001b[0mresult\u001b[0m \u001b[0;34m=\u001b[0m \u001b[0mself\u001b[0m\u001b[0;34m.\u001b[0m\u001b[0m_slow_forward\u001b[0m\u001b[0;34m(\u001b[0m\u001b[0;34m*\u001b[0m\u001b[0minput\u001b[0m\u001b[0;34m,\u001b[0m \u001b[0;34m**\u001b[0m\u001b[0mkwargs\u001b[0m\u001b[0;34m)\u001b[0m\u001b[0;34m\u001b[0m\u001b[0;34m\u001b[0m\u001b[0m\n\u001b[1;32m    540\u001b[0m         \u001b[0;32melse\u001b[0m\u001b[0;34m:\u001b[0m\u001b[0;34m\u001b[0m\u001b[0;34m\u001b[0m\u001b[0m\n\u001b[0;32m--> 541\u001b[0;31m             \u001b[0mresult\u001b[0m \u001b[0;34m=\u001b[0m \u001b[0mself\u001b[0m\u001b[0;34m.\u001b[0m\u001b[0mforward\u001b[0m\u001b[0;34m(\u001b[0m\u001b[0;34m*\u001b[0m\u001b[0minput\u001b[0m\u001b[0;34m,\u001b[0m \u001b[0;34m**\u001b[0m\u001b[0mkwargs\u001b[0m\u001b[0;34m)\u001b[0m\u001b[0;34m\u001b[0m\u001b[0;34m\u001b[0m\u001b[0m\n\u001b[0m\u001b[1;32m    542\u001b[0m         \u001b[0;32mfor\u001b[0m \u001b[0mhook\u001b[0m \u001b[0;32min\u001b[0m \u001b[0mself\u001b[0m\u001b[0;34m.\u001b[0m\u001b[0m_forward_hooks\u001b[0m\u001b[0;34m.\u001b[0m\u001b[0mvalues\u001b[0m\u001b[0;34m(\u001b[0m\u001b[0;34m)\u001b[0m\u001b[0;34m:\u001b[0m\u001b[0;34m\u001b[0m\u001b[0;34m\u001b[0m\u001b[0m\n\u001b[1;32m    543\u001b[0m             \u001b[0mhook_result\u001b[0m \u001b[0;34m=\u001b[0m \u001b[0mhook\u001b[0m\u001b[0;34m(\u001b[0m\u001b[0mself\u001b[0m\u001b[0;34m,\u001b[0m \u001b[0minput\u001b[0m\u001b[0;34m,\u001b[0m \u001b[0mresult\u001b[0m\u001b[0;34m)\u001b[0m\u001b[0;34m\u001b[0m\u001b[0;34m\u001b[0m\u001b[0m\n",
            "\u001b[0;32m/usr/local/lib/python3.6/dist-packages/torch/nn/modules/container.py\u001b[0m in \u001b[0;36mforward\u001b[0;34m(self, input)\u001b[0m\n\u001b[1;32m     90\u001b[0m     \u001b[0;32mdef\u001b[0m \u001b[0mforward\u001b[0m\u001b[0;34m(\u001b[0m\u001b[0mself\u001b[0m\u001b[0;34m,\u001b[0m \u001b[0minput\u001b[0m\u001b[0;34m)\u001b[0m\u001b[0;34m:\u001b[0m\u001b[0;34m\u001b[0m\u001b[0;34m\u001b[0m\u001b[0m\n\u001b[1;32m     91\u001b[0m         \u001b[0;32mfor\u001b[0m \u001b[0mmodule\u001b[0m \u001b[0;32min\u001b[0m \u001b[0mself\u001b[0m\u001b[0;34m.\u001b[0m\u001b[0m_modules\u001b[0m\u001b[0;34m.\u001b[0m\u001b[0mvalues\u001b[0m\u001b[0;34m(\u001b[0m\u001b[0;34m)\u001b[0m\u001b[0;34m:\u001b[0m\u001b[0;34m\u001b[0m\u001b[0;34m\u001b[0m\u001b[0m\n\u001b[0;32m---> 92\u001b[0;31m             \u001b[0minput\u001b[0m \u001b[0;34m=\u001b[0m \u001b[0mmodule\u001b[0m\u001b[0;34m(\u001b[0m\u001b[0minput\u001b[0m\u001b[0;34m)\u001b[0m\u001b[0;34m\u001b[0m\u001b[0;34m\u001b[0m\u001b[0m\n\u001b[0m\u001b[1;32m     93\u001b[0m         \u001b[0;32mreturn\u001b[0m \u001b[0minput\u001b[0m\u001b[0;34m\u001b[0m\u001b[0;34m\u001b[0m\u001b[0m\n\u001b[1;32m     94\u001b[0m \u001b[0;34m\u001b[0m\u001b[0m\n",
            "\u001b[0;32m/usr/local/lib/python3.6/dist-packages/torch/nn/modules/module.py\u001b[0m in \u001b[0;36m__call__\u001b[0;34m(self, *input, **kwargs)\u001b[0m\n\u001b[1;32m    539\u001b[0m             \u001b[0mresult\u001b[0m \u001b[0;34m=\u001b[0m \u001b[0mself\u001b[0m\u001b[0;34m.\u001b[0m\u001b[0m_slow_forward\u001b[0m\u001b[0;34m(\u001b[0m\u001b[0;34m*\u001b[0m\u001b[0minput\u001b[0m\u001b[0;34m,\u001b[0m \u001b[0;34m**\u001b[0m\u001b[0mkwargs\u001b[0m\u001b[0;34m)\u001b[0m\u001b[0;34m\u001b[0m\u001b[0;34m\u001b[0m\u001b[0m\n\u001b[1;32m    540\u001b[0m         \u001b[0;32melse\u001b[0m\u001b[0;34m:\u001b[0m\u001b[0;34m\u001b[0m\u001b[0;34m\u001b[0m\u001b[0m\n\u001b[0;32m--> 541\u001b[0;31m             \u001b[0mresult\u001b[0m \u001b[0;34m=\u001b[0m \u001b[0mself\u001b[0m\u001b[0;34m.\u001b[0m\u001b[0mforward\u001b[0m\u001b[0;34m(\u001b[0m\u001b[0;34m*\u001b[0m\u001b[0minput\u001b[0m\u001b[0;34m,\u001b[0m \u001b[0;34m**\u001b[0m\u001b[0mkwargs\u001b[0m\u001b[0;34m)\u001b[0m\u001b[0;34m\u001b[0m\u001b[0;34m\u001b[0m\u001b[0m\n\u001b[0m\u001b[1;32m    542\u001b[0m         \u001b[0;32mfor\u001b[0m \u001b[0mhook\u001b[0m \u001b[0;32min\u001b[0m \u001b[0mself\u001b[0m\u001b[0;34m.\u001b[0m\u001b[0m_forward_hooks\u001b[0m\u001b[0;34m.\u001b[0m\u001b[0mvalues\u001b[0m\u001b[0;34m(\u001b[0m\u001b[0;34m)\u001b[0m\u001b[0;34m:\u001b[0m\u001b[0;34m\u001b[0m\u001b[0;34m\u001b[0m\u001b[0m\n\u001b[1;32m    543\u001b[0m             \u001b[0mhook_result\u001b[0m \u001b[0;34m=\u001b[0m \u001b[0mhook\u001b[0m\u001b[0;34m(\u001b[0m\u001b[0mself\u001b[0m\u001b[0;34m,\u001b[0m \u001b[0minput\u001b[0m\u001b[0;34m,\u001b[0m \u001b[0mresult\u001b[0m\u001b[0;34m)\u001b[0m\u001b[0;34m\u001b[0m\u001b[0;34m\u001b[0m\u001b[0m\n",
            "\u001b[0;32m<ipython-input-99-748ee444eb80>\u001b[0m in \u001b[0;36mforward\u001b[0;34m(self, input)\u001b[0m\n\u001b[1;32m     29\u001b[0m         \u001b[0mencoded_states\u001b[0m \u001b[0;34m=\u001b[0m \u001b[0mself\u001b[0m\u001b[0;34m.\u001b[0m\u001b[0mdropout\u001b[0m\u001b[0;34m(\u001b[0m\u001b[0minput_seq\u001b[0m\u001b[0;34m[\u001b[0m\u001b[0;36m0\u001b[0m\u001b[0;34m]\u001b[0m\u001b[0;34m[\u001b[0m\u001b[0;36m2\u001b[0m\u001b[0;34m]\u001b[0m\u001b[0;34m)\u001b[0m\u001b[0;34m\u001b[0m\u001b[0;34m\u001b[0m\u001b[0m\n\u001b[1;32m     30\u001b[0m         \u001b[0mdisplay\u001b[0m\u001b[0;34m(\u001b[0m\u001b[0mself\u001b[0m\u001b[0;34m.\u001b[0m\u001b[0mhidden_to_tag\u001b[0m\u001b[0;34m(\u001b[0m\u001b[0mencoded_states\u001b[0m\u001b[0;34m)\u001b[0m\u001b[0;34m.\u001b[0m\u001b[0mshape\u001b[0m\u001b[0;34m)\u001b[0m\u001b[0;34m\u001b[0m\u001b[0;34m\u001b[0m\u001b[0m\n\u001b[0;32m---> 31\u001b[0;31m         \u001b[0mpredictions\u001b[0m \u001b[0;34m=\u001b[0m \u001b[0mself\u001b[0m\u001b[0;34m.\u001b[0m\u001b[0mactivation\u001b[0m\u001b[0;34m(\u001b[0m\u001b[0mself\u001b[0m\u001b[0;34m.\u001b[0m\u001b[0mhidden_to_tag\u001b[0m\u001b[0;34m(\u001b[0m\u001b[0mencoded_states\u001b[0m\u001b[0;34m)\u001b[0m\u001b[0;34m)\u001b[0m\u001b[0;34m\u001b[0m\u001b[0;34m\u001b[0m\u001b[0m\n\u001b[0m\u001b[1;32m     32\u001b[0m         \u001b[0mlosses\u001b[0m \u001b[0;34m=\u001b[0m \u001b[0mlist\u001b[0m\u001b[0;34m(\u001b[0m\u001b[0;34m)\u001b[0m\u001b[0;34m\u001b[0m\u001b[0;34m\u001b[0m\u001b[0m\n\u001b[1;32m     33\u001b[0m         \u001b[0;32mfor\u001b[0m \u001b[0mi\u001b[0m\u001b[0;34m,\u001b[0m \u001b[0;34m(\u001b[0m\u001b[0mpred\u001b[0m\u001b[0;34m,\u001b[0m \u001b[0mactive\u001b[0m\u001b[0;34m,\u001b[0m \u001b[0mout\u001b[0m\u001b[0;34m)\u001b[0m \u001b[0;32min\u001b[0m \u001b[0menumerate\u001b[0m\u001b[0;34m(\u001b[0m\u001b[0mzip\u001b[0m\u001b[0;34m(\u001b[0m\u001b[0mpredictions\u001b[0m\u001b[0;34m,\u001b[0m \u001b[0mmask\u001b[0m\u001b[0;34m,\u001b[0m \u001b[0moutput_seq\u001b[0m\u001b[0;34m)\u001b[0m\u001b[0;34m)\u001b[0m\u001b[0;34m:\u001b[0m\u001b[0;34m\u001b[0m\u001b[0;34m\u001b[0m\u001b[0m\n",
            "\u001b[0;32m/usr/local/lib/python3.6/dist-packages/torch/nn/modules/module.py\u001b[0m in \u001b[0;36m__call__\u001b[0;34m(self, *input, **kwargs)\u001b[0m\n\u001b[1;32m    539\u001b[0m             \u001b[0mresult\u001b[0m \u001b[0;34m=\u001b[0m \u001b[0mself\u001b[0m\u001b[0;34m.\u001b[0m\u001b[0m_slow_forward\u001b[0m\u001b[0;34m(\u001b[0m\u001b[0;34m*\u001b[0m\u001b[0minput\u001b[0m\u001b[0;34m,\u001b[0m \u001b[0;34m**\u001b[0m\u001b[0mkwargs\u001b[0m\u001b[0;34m)\u001b[0m\u001b[0;34m\u001b[0m\u001b[0;34m\u001b[0m\u001b[0m\n\u001b[1;32m    540\u001b[0m         \u001b[0;32melse\u001b[0m\u001b[0;34m:\u001b[0m\u001b[0;34m\u001b[0m\u001b[0;34m\u001b[0m\u001b[0m\n\u001b[0;32m--> 541\u001b[0;31m             \u001b[0mresult\u001b[0m \u001b[0;34m=\u001b[0m \u001b[0mself\u001b[0m\u001b[0;34m.\u001b[0m\u001b[0mforward\u001b[0m\u001b[0;34m(\u001b[0m\u001b[0;34m*\u001b[0m\u001b[0minput\u001b[0m\u001b[0;34m,\u001b[0m \u001b[0;34m**\u001b[0m\u001b[0mkwargs\u001b[0m\u001b[0;34m)\u001b[0m\u001b[0;34m\u001b[0m\u001b[0;34m\u001b[0m\u001b[0m\n\u001b[0m\u001b[1;32m    542\u001b[0m         \u001b[0;32mfor\u001b[0m \u001b[0mhook\u001b[0m \u001b[0;32min\u001b[0m \u001b[0mself\u001b[0m\u001b[0;34m.\u001b[0m\u001b[0m_forward_hooks\u001b[0m\u001b[0;34m.\u001b[0m\u001b[0mvalues\u001b[0m\u001b[0;34m(\u001b[0m\u001b[0;34m)\u001b[0m\u001b[0;34m:\u001b[0m\u001b[0;34m\u001b[0m\u001b[0;34m\u001b[0m\u001b[0m\n\u001b[1;32m    543\u001b[0m             \u001b[0mhook_result\u001b[0m \u001b[0;34m=\u001b[0m \u001b[0mhook\u001b[0m\u001b[0;34m(\u001b[0m\u001b[0mself\u001b[0m\u001b[0;34m,\u001b[0m \u001b[0minput\u001b[0m\u001b[0;34m,\u001b[0m \u001b[0mresult\u001b[0m\u001b[0;34m)\u001b[0m\u001b[0;34m\u001b[0m\u001b[0;34m\u001b[0m\u001b[0m\n",
            "\u001b[0;32m/usr/local/lib/python3.6/dist-packages/torch/nn/modules/activation.py\u001b[0m in \u001b[0;36mforward\u001b[0;34m(self, input)\u001b[0m\n\u001b[1;32m   1050\u001b[0m \u001b[0;34m\u001b[0m\u001b[0m\n\u001b[1;32m   1051\u001b[0m     \u001b[0;32mdef\u001b[0m \u001b[0mforward\u001b[0m\u001b[0;34m(\u001b[0m\u001b[0mself\u001b[0m\u001b[0;34m,\u001b[0m \u001b[0minput\u001b[0m\u001b[0;34m)\u001b[0m\u001b[0;34m:\u001b[0m\u001b[0;34m\u001b[0m\u001b[0;34m\u001b[0m\u001b[0m\n\u001b[0;32m-> 1052\u001b[0;31m         \u001b[0;32mreturn\u001b[0m \u001b[0mF\u001b[0m\u001b[0;34m.\u001b[0m\u001b[0mlog_softmax\u001b[0m\u001b[0;34m(\u001b[0m\u001b[0minput\u001b[0m\u001b[0;34m,\u001b[0m \u001b[0mself\u001b[0m\u001b[0;34m.\u001b[0m\u001b[0mdim\u001b[0m\u001b[0;34m,\u001b[0m \u001b[0m_stacklevel\u001b[0m\u001b[0;34m=\u001b[0m\u001b[0;36m5\u001b[0m\u001b[0;34m)\u001b[0m\u001b[0;34m\u001b[0m\u001b[0;34m\u001b[0m\u001b[0m\n\u001b[0m",
            "\u001b[0;32m/usr/local/lib/python3.6/dist-packages/torch/nn/functional.py\u001b[0m in \u001b[0;36mlog_softmax\u001b[0;34m(input, dim, _stacklevel, dtype)\u001b[0m\n\u001b[1;32m   1315\u001b[0m         \u001b[0mdim\u001b[0m \u001b[0;34m=\u001b[0m \u001b[0m_get_softmax_dim\u001b[0m\u001b[0;34m(\u001b[0m\u001b[0;34m'log_softmax'\u001b[0m\u001b[0;34m,\u001b[0m \u001b[0minput\u001b[0m\u001b[0;34m.\u001b[0m\u001b[0mdim\u001b[0m\u001b[0;34m(\u001b[0m\u001b[0;34m)\u001b[0m\u001b[0;34m,\u001b[0m \u001b[0m_stacklevel\u001b[0m\u001b[0;34m)\u001b[0m\u001b[0;34m\u001b[0m\u001b[0;34m\u001b[0m\u001b[0m\n\u001b[1;32m   1316\u001b[0m     \u001b[0;32mif\u001b[0m \u001b[0mdtype\u001b[0m \u001b[0;32mis\u001b[0m \u001b[0;32mNone\u001b[0m\u001b[0;34m:\u001b[0m\u001b[0;34m\u001b[0m\u001b[0;34m\u001b[0m\u001b[0m\n\u001b[0;32m-> 1317\u001b[0;31m         \u001b[0mret\u001b[0m \u001b[0;34m=\u001b[0m \u001b[0minput\u001b[0m\u001b[0;34m.\u001b[0m\u001b[0mlog_softmax\u001b[0m\u001b[0;34m(\u001b[0m\u001b[0mdim\u001b[0m\u001b[0;34m)\u001b[0m\u001b[0;34m\u001b[0m\u001b[0;34m\u001b[0m\u001b[0m\n\u001b[0m\u001b[1;32m   1318\u001b[0m     \u001b[0;32melse\u001b[0m\u001b[0;34m:\u001b[0m\u001b[0;34m\u001b[0m\u001b[0;34m\u001b[0m\u001b[0m\n\u001b[1;32m   1319\u001b[0m         \u001b[0mret\u001b[0m \u001b[0;34m=\u001b[0m \u001b[0minput\u001b[0m\u001b[0;34m.\u001b[0m\u001b[0mlog_softmax\u001b[0m\u001b[0;34m(\u001b[0m\u001b[0mdim\u001b[0m\u001b[0;34m,\u001b[0m \u001b[0mdtype\u001b[0m\u001b[0;34m=\u001b[0m\u001b[0mdtype\u001b[0m\u001b[0;34m)\u001b[0m\u001b[0;34m\u001b[0m\u001b[0;34m\u001b[0m\u001b[0m\n",
            "\u001b[0;31mIndexError\u001b[0m: Dimension out of range (expected to be in range of [-2, 1], but got 2)"
          ]
        }
      ]
    },
    {
      "cell_type": "code",
      "metadata": {
        "id": "wAAu6nOey3Nw",
        "colab_type": "code",
        "colab": {}
      },
      "source": [
        "# learn.lr_find()\n",
        "# learn.recorder.plot(skip_end=10)"
      ],
      "execution_count": 0,
      "outputs": []
    },
    {
      "cell_type": "code",
      "metadata": {
        "id": "ztB6LlutzHwV",
        "colab_type": "code",
        "colab": {}
      },
      "source": [
        "|lr = 5e-02\n",
        "moms = (0.8,0.7)\n",
        "wd = 0.1"
      ],
      "execution_count": 0,
      "outputs": []
    },
    {
      "cell_type": "code",
      "metadata": {
        "id": "B9_51ozvasNc",
        "colab_type": "code",
        "colab": {}
      },
      "source": [
        ""
      ],
      "execution_count": 0,
      "outputs": []
    }
  ]
}